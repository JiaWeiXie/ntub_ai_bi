{
  "nbformat": 4,
  "nbformat_minor": 0,
  "metadata": {
    "colab": {
      "name": "ntub_bi_20220517.ipynb",
      "provenance": [],
      "collapsed_sections": [],
      "authorship_tag": "ABX9TyMhEkkxQ7eEi0XodTBbASEz",
      "include_colab_link": true
    },
    "kernelspec": {
      "name": "python3",
      "display_name": "Python 3"
    },
    "language_info": {
      "name": "python"
    }
  },
  "cells": [
    {
      "cell_type": "markdown",
      "metadata": {
        "id": "view-in-github",
        "colab_type": "text"
      },
      "source": [
        "<a href=\"https://colab.research.google.com/github/JiaWeiXie/ntub_ai_bi/blob/main/ntub_bi_20220517.ipynb\" target=\"_parent\"><img src=\"https://colab.research.google.com/assets/colab-badge.svg\" alt=\"Open In Colab\"/></a>"
      ]
    },
    {
      "cell_type": "code",
      "execution_count": 1,
      "metadata": {
        "colab": {
          "base_uri": "https://localhost:8080/"
        },
        "id": "vJZHT90ggWJD",
        "outputId": "f559297e-7cf1-40ca-be3d-c01f855093b4"
      },
      "outputs": [
        {
          "output_type": "stream",
          "name": "stdout",
          "text": [
            "\u001b[?25hCollecting requests>=2.26\n",
            "  Downloading requests-2.27.1-py2.py3-none-any.whl (63 kB)\n",
            "\u001b[?25l\r\u001b[K     |█████▏                          | 10 kB 32.0 MB/s eta 0:00:01\r\u001b[K     |██████████▍                     | 20 kB 36.8 MB/s eta 0:00:01\r\u001b[K     |███████████████▋                | 30 kB 46.1 MB/s eta 0:00:01\r\u001b[K     |████████████████████▊           | 40 kB 52.9 MB/s eta 0:00:01\r\u001b[K     |██████████████████████████      | 51 kB 50.5 MB/s eta 0:00:01\r\u001b[K     |███████████████████████████████▏| 61 kB 51.2 MB/s eta 0:00:01\r\u001b[K     |████████████████████████████████| 63 kB 1.7 MB/s \n",
            "\u001b[?25hRequirement already satisfied: multitasking>=0.0.7 in /usr/local/lib/python3.7/dist-packages (from yfinance) (0.0.10)\n",
            "Collecting lxml>=4.5.1\n",
            "  Downloading lxml-4.8.0-cp37-cp37m-manylinux_2_17_x86_64.manylinux2014_x86_64.manylinux_2_24_x86_64.whl (6.4 MB)\n",
            "\u001b[K     |████████████████████████████████| 6.4 MB 57.5 MB/s \n",
            "\u001b[?25hRequirement already satisfied: numpy>=1.15 in /usr/local/lib/python3.7/dist-packages (from yfinance) (1.21.6)\n",
            "Requirement already satisfied: pandas>=0.24.0 in /usr/local/lib/python3.7/dist-packages (from yfinance) (1.3.5)\n",
            "Requirement already satisfied: python-dateutil>=2.7.3 in /usr/local/lib/python3.7/dist-packages (from pandas>=0.24.0->yfinance) (2.8.2)\n",
            "Requirement already satisfied: pytz>=2017.3 in /usr/local/lib/python3.7/dist-packages (from pandas>=0.24.0->yfinance) (2022.1)\n",
            "Requirement already satisfied: six>=1.5 in /usr/local/lib/python3.7/dist-packages (from python-dateutil>=2.7.3->pandas>=0.24.0->yfinance) (1.15.0)\n",
            "Requirement already satisfied: charset-normalizer~=2.0.0 in /usr/local/lib/python3.7/dist-packages (from requests>=2.26->yfinance) (2.0.12)\n",
            "Requirement already satisfied: idna<4,>=2.5 in /usr/local/lib/python3.7/dist-packages (from requests>=2.26->yfinance) (2.10)\n",
            "Requirement already satisfied: urllib3<1.27,>=1.21.1 in /usr/local/lib/python3.7/dist-packages (from requests>=2.26->yfinance) (1.24.3)\n",
            "Requirement already satisfied: certifi>=2017.4.17 in /usr/local/lib/python3.7/dist-packages (from requests>=2.26->yfinance) (2021.10.8)\n",
            "Building wheels for collected packages: ta-lib\n",
            "  Building wheel for ta-lib (setup.py) ... \u001b[?25l\u001b[?25hdone\n",
            "  Created wheel for ta-lib: filename=TA_Lib-0.4.24-cp37-cp37m-linux_x86_64.whl size=1465730 sha256=73d57c1de41064504be24a8714af095aa8b746d7d9a3261b70ad9ab4978f55b8\n",
            "  Stored in directory: /root/.cache/pip/wheels/02/b1/a5/aca31e8cdd0137d7a83bf72237056b8705663dd1f9b5eac11e\n",
            "Successfully built ta-lib\n",
            "Installing collected packages: requests, lxml, yfinance, ta-lib, backtrader\n",
            "  Attempting uninstall: requests\n",
            "    Found existing installation: requests 2.23.0\n",
            "    Uninstalling requests-2.23.0:\n",
            "      Successfully uninstalled requests-2.23.0\n",
            "  Attempting uninstall: lxml\n",
            "    Found existing installation: lxml 4.2.6\n",
            "    Uninstalling lxml-4.2.6:\n",
            "      Successfully uninstalled lxml-4.2.6\n",
            "\u001b[31mERROR: pip's dependency resolver does not currently take into account all the packages that are installed. This behaviour is the source of the following dependency conflicts.\n",
            "google-colab 1.0.0 requires requests~=2.23.0, but you have requests 2.27.1 which is incompatible.\n",
            "datascience 0.10.6 requires folium==0.2.1, but you have folium 0.8.3 which is incompatible.\u001b[0m\n",
            "Successfully installed backtrader-1.9.76.123 lxml-4.8.0 requests-2.27.1 ta-lib-0.4.24 yfinance-0.1.70\n"
          ]
        }
      ],
      "source": [
        "! wget http://prdownloads.sourceforge.net/ta-lib/ta-lib-0.4.0-src.tar.gz \\\n",
        "  && sudo tar -xzf ta-lib-0.4.0-src.tar.gz \\\n",
        "  && sudo rm ta-lib-0.4.0-src.tar.gz \\\n",
        "  && cd ta-lib/ \\\n",
        "  && sudo ./configure --prefix=/usr \\\n",
        "  && sudo make \\\n",
        "  && sudo make install \\\n",
        "  && cd ~ \\\n",
        "  && sudo rm -rf ta-lib/ \\\n",
        "  && pip install -U yfinance backtrader ta-lib"
      ]
    },
    {
      "cell_type": "code",
      "source": [
        "! pip install rich"
      ],
      "metadata": {
        "colab": {
          "base_uri": "https://localhost:8080/"
        },
        "id": "jy9alEWIIDum",
        "outputId": "f916fa3d-7902-4aa2-e6e1-8e1bcbfdcef1"
      },
      "execution_count": 2,
      "outputs": [
        {
          "output_type": "stream",
          "name": "stdout",
          "text": [
            "Collecting rich\n",
            "  Downloading rich-12.4.1-py3-none-any.whl (231 kB)\n",
            "\u001b[?25l\r\u001b[K     |█▍                              | 10 kB 16.4 MB/s eta 0:00:01\r\u001b[K     |██▉                             | 20 kB 11.2 MB/s eta 0:00:01\r\u001b[K     |████▎                           | 30 kB 6.9 MB/s eta 0:00:01\r\u001b[K     |█████▋                          | 40 kB 6.4 MB/s eta 0:00:01\r\u001b[K     |███████                         | 51 kB 3.5 MB/s eta 0:00:01\r\u001b[K     |████████▌                       | 61 kB 4.1 MB/s eta 0:00:01\r\u001b[K     |██████████                      | 71 kB 4.4 MB/s eta 0:00:01\r\u001b[K     |███████████▎                    | 81 kB 4.7 MB/s eta 0:00:01\r\u001b[K     |████████████▊                   | 92 kB 5.2 MB/s eta 0:00:01\r\u001b[K     |██████████████▏                 | 102 kB 4.3 MB/s eta 0:00:01\r\u001b[K     |███████████████▌                | 112 kB 4.3 MB/s eta 0:00:01\r\u001b[K     |█████████████████               | 122 kB 4.3 MB/s eta 0:00:01\r\u001b[K     |██████████████████▍             | 133 kB 4.3 MB/s eta 0:00:01\r\u001b[K     |███████████████████▉            | 143 kB 4.3 MB/s eta 0:00:01\r\u001b[K     |█████████████████████▏          | 153 kB 4.3 MB/s eta 0:00:01\r\u001b[K     |██████████████████████▋         | 163 kB 4.3 MB/s eta 0:00:01\r\u001b[K     |████████████████████████        | 174 kB 4.3 MB/s eta 0:00:01\r\u001b[K     |█████████████████████████▌      | 184 kB 4.3 MB/s eta 0:00:01\r\u001b[K     |██████████████████████████▉     | 194 kB 4.3 MB/s eta 0:00:01\r\u001b[K     |████████████████████████████▎   | 204 kB 4.3 MB/s eta 0:00:01\r\u001b[K     |█████████████████████████████▊  | 215 kB 4.3 MB/s eta 0:00:01\r\u001b[K     |███████████████████████████████ | 225 kB 4.3 MB/s eta 0:00:01\r\u001b[K     |████████████████████████████████| 231 kB 4.3 MB/s \n",
            "\u001b[?25hRequirement already satisfied: typing-extensions<5.0,>=4.0.0 in /usr/local/lib/python3.7/dist-packages (from rich) (4.2.0)\n",
            "Collecting commonmark<0.10.0,>=0.9.0\n",
            "  Downloading commonmark-0.9.1-py2.py3-none-any.whl (51 kB)\n",
            "\u001b[K     |████████████████████████████████| 51 kB 6.3 MB/s \n",
            "\u001b[?25hRequirement already satisfied: pygments<3.0.0,>=2.6.0 in /usr/local/lib/python3.7/dist-packages (from rich) (2.6.1)\n",
            "Installing collected packages: commonmark, rich\n",
            "Successfully installed commonmark-0.9.1 rich-12.4.1\n"
          ]
        }
      ]
    },
    {
      "cell_type": "code",
      "source": [
        "import os\n",
        "import sys\n",
        "import math\n",
        "import datetime\n",
        "\n",
        "import backtrader as bt\n",
        "import backtrader.feeds as btfeeds\n",
        "import backtrader.analyzers as btanalyzers\n",
        "\n",
        "from rich import print"
      ],
      "metadata": {
        "id": "likdvRoDCFWN"
      },
      "execution_count": 3,
      "outputs": []
    },
    {
      "cell_type": "code",
      "source": [
        "import yfinance as yf\n",
        "\n",
        "spy = yf.Ticker(\"SPY\")\n",
        "dataset = spy.history(period=\"max\")\n",
        "# dataset.to_csv(\"spy_max.csv\")\n",
        "dataset[\"2019\"]"
      ],
      "metadata": {
        "colab": {
          "base_uri": "https://localhost:8080/",
          "height": 511
        },
        "id": "uM91eHrLgePh",
        "outputId": "6fcead8e-9e9c-4b45-c12d-3ac39ad0a578"
      },
      "execution_count": 4,
      "outputs": [
        {
          "output_type": "stream",
          "name": "stderr",
          "text": [
            "/usr/local/lib/python3.7/dist-packages/ipykernel_launcher.py:6: FutureWarning: Indexing a DataFrame with a datetimelike index using a single string to slice the rows, like `frame[string]`, is deprecated and will be removed in a future version. Use `frame.loc[string]` instead.\n",
            "  \n"
          ]
        },
        {
          "output_type": "execute_result",
          "data": {
            "text/plain": [
              "                  Open        High         Low       Close     Volume  \\\n",
              "Date                                                                    \n",
              "2019-01-02  233.141438  238.098477  233.113005  237.122223  126925200   \n",
              "2019-01-03  235.273977  235.596243  230.951983  231.463806  144140700   \n",
              "2019-01-04  234.667414  239.899310  234.269337  239.216888  142628800   \n",
              "2019-01-07  239.501217  242.591061  238.553410  241.103012  103139100   \n",
              "2019-01-08  243.415679  243.880094  240.742857  243.368271  102512600   \n",
              "...                ...         ...         ...         ...        ...   \n",
              "2019-12-24  310.460959  310.509234  309.910472  310.229187   20270000   \n",
              "2019-12-26  310.634754  311.890252  310.625116  311.880585   30911200   \n",
              "2019-12-27  312.653182  312.711125  311.243190  311.803314   42528800   \n",
              "2019-12-30  311.890244  312.035101  309.572411  310.084259   49729100   \n",
              "2019-12-31  309.553146  311.098358  309.186154  310.837585   57077300   \n",
              "\n",
              "            Dividends  Stock Splits  \n",
              "Date                                 \n",
              "2019-01-02        0.0             0  \n",
              "2019-01-03        0.0             0  \n",
              "2019-01-04        0.0             0  \n",
              "2019-01-07        0.0             0  \n",
              "2019-01-08        0.0             0  \n",
              "...               ...           ...  \n",
              "2019-12-24        0.0             0  \n",
              "2019-12-26        0.0             0  \n",
              "2019-12-27        0.0             0  \n",
              "2019-12-30        0.0             0  \n",
              "2019-12-31        0.0             0  \n",
              "\n",
              "[252 rows x 7 columns]"
            ],
            "text/html": [
              "\n",
              "  <div id=\"df-b570fc0f-2b63-493c-ac87-4ae9d837eed2\">\n",
              "    <div class=\"colab-df-container\">\n",
              "      <div>\n",
              "<style scoped>\n",
              "    .dataframe tbody tr th:only-of-type {\n",
              "        vertical-align: middle;\n",
              "    }\n",
              "\n",
              "    .dataframe tbody tr th {\n",
              "        vertical-align: top;\n",
              "    }\n",
              "\n",
              "    .dataframe thead th {\n",
              "        text-align: right;\n",
              "    }\n",
              "</style>\n",
              "<table border=\"1\" class=\"dataframe\">\n",
              "  <thead>\n",
              "    <tr style=\"text-align: right;\">\n",
              "      <th></th>\n",
              "      <th>Open</th>\n",
              "      <th>High</th>\n",
              "      <th>Low</th>\n",
              "      <th>Close</th>\n",
              "      <th>Volume</th>\n",
              "      <th>Dividends</th>\n",
              "      <th>Stock Splits</th>\n",
              "    </tr>\n",
              "    <tr>\n",
              "      <th>Date</th>\n",
              "      <th></th>\n",
              "      <th></th>\n",
              "      <th></th>\n",
              "      <th></th>\n",
              "      <th></th>\n",
              "      <th></th>\n",
              "      <th></th>\n",
              "    </tr>\n",
              "  </thead>\n",
              "  <tbody>\n",
              "    <tr>\n",
              "      <th>2019-01-02</th>\n",
              "      <td>233.141438</td>\n",
              "      <td>238.098477</td>\n",
              "      <td>233.113005</td>\n",
              "      <td>237.122223</td>\n",
              "      <td>126925200</td>\n",
              "      <td>0.0</td>\n",
              "      <td>0</td>\n",
              "    </tr>\n",
              "    <tr>\n",
              "      <th>2019-01-03</th>\n",
              "      <td>235.273977</td>\n",
              "      <td>235.596243</td>\n",
              "      <td>230.951983</td>\n",
              "      <td>231.463806</td>\n",
              "      <td>144140700</td>\n",
              "      <td>0.0</td>\n",
              "      <td>0</td>\n",
              "    </tr>\n",
              "    <tr>\n",
              "      <th>2019-01-04</th>\n",
              "      <td>234.667414</td>\n",
              "      <td>239.899310</td>\n",
              "      <td>234.269337</td>\n",
              "      <td>239.216888</td>\n",
              "      <td>142628800</td>\n",
              "      <td>0.0</td>\n",
              "      <td>0</td>\n",
              "    </tr>\n",
              "    <tr>\n",
              "      <th>2019-01-07</th>\n",
              "      <td>239.501217</td>\n",
              "      <td>242.591061</td>\n",
              "      <td>238.553410</td>\n",
              "      <td>241.103012</td>\n",
              "      <td>103139100</td>\n",
              "      <td>0.0</td>\n",
              "      <td>0</td>\n",
              "    </tr>\n",
              "    <tr>\n",
              "      <th>2019-01-08</th>\n",
              "      <td>243.415679</td>\n",
              "      <td>243.880094</td>\n",
              "      <td>240.742857</td>\n",
              "      <td>243.368271</td>\n",
              "      <td>102512600</td>\n",
              "      <td>0.0</td>\n",
              "      <td>0</td>\n",
              "    </tr>\n",
              "    <tr>\n",
              "      <th>...</th>\n",
              "      <td>...</td>\n",
              "      <td>...</td>\n",
              "      <td>...</td>\n",
              "      <td>...</td>\n",
              "      <td>...</td>\n",
              "      <td>...</td>\n",
              "      <td>...</td>\n",
              "    </tr>\n",
              "    <tr>\n",
              "      <th>2019-12-24</th>\n",
              "      <td>310.460959</td>\n",
              "      <td>310.509234</td>\n",
              "      <td>309.910472</td>\n",
              "      <td>310.229187</td>\n",
              "      <td>20270000</td>\n",
              "      <td>0.0</td>\n",
              "      <td>0</td>\n",
              "    </tr>\n",
              "    <tr>\n",
              "      <th>2019-12-26</th>\n",
              "      <td>310.634754</td>\n",
              "      <td>311.890252</td>\n",
              "      <td>310.625116</td>\n",
              "      <td>311.880585</td>\n",
              "      <td>30911200</td>\n",
              "      <td>0.0</td>\n",
              "      <td>0</td>\n",
              "    </tr>\n",
              "    <tr>\n",
              "      <th>2019-12-27</th>\n",
              "      <td>312.653182</td>\n",
              "      <td>312.711125</td>\n",
              "      <td>311.243190</td>\n",
              "      <td>311.803314</td>\n",
              "      <td>42528800</td>\n",
              "      <td>0.0</td>\n",
              "      <td>0</td>\n",
              "    </tr>\n",
              "    <tr>\n",
              "      <th>2019-12-30</th>\n",
              "      <td>311.890244</td>\n",
              "      <td>312.035101</td>\n",
              "      <td>309.572411</td>\n",
              "      <td>310.084259</td>\n",
              "      <td>49729100</td>\n",
              "      <td>0.0</td>\n",
              "      <td>0</td>\n",
              "    </tr>\n",
              "    <tr>\n",
              "      <th>2019-12-31</th>\n",
              "      <td>309.553146</td>\n",
              "      <td>311.098358</td>\n",
              "      <td>309.186154</td>\n",
              "      <td>310.837585</td>\n",
              "      <td>57077300</td>\n",
              "      <td>0.0</td>\n",
              "      <td>0</td>\n",
              "    </tr>\n",
              "  </tbody>\n",
              "</table>\n",
              "<p>252 rows × 7 columns</p>\n",
              "</div>\n",
              "      <button class=\"colab-df-convert\" onclick=\"convertToInteractive('df-b570fc0f-2b63-493c-ac87-4ae9d837eed2')\"\n",
              "              title=\"Convert this dataframe to an interactive table.\"\n",
              "              style=\"display:none;\">\n",
              "        \n",
              "  <svg xmlns=\"http://www.w3.org/2000/svg\" height=\"24px\"viewBox=\"0 0 24 24\"\n",
              "       width=\"24px\">\n",
              "    <path d=\"M0 0h24v24H0V0z\" fill=\"none\"/>\n",
              "    <path d=\"M18.56 5.44l.94 2.06.94-2.06 2.06-.94-2.06-.94-.94-2.06-.94 2.06-2.06.94zm-11 1L8.5 8.5l.94-2.06 2.06-.94-2.06-.94L8.5 2.5l-.94 2.06-2.06.94zm10 10l.94 2.06.94-2.06 2.06-.94-2.06-.94-.94-2.06-.94 2.06-2.06.94z\"/><path d=\"M17.41 7.96l-1.37-1.37c-.4-.4-.92-.59-1.43-.59-.52 0-1.04.2-1.43.59L10.3 9.45l-7.72 7.72c-.78.78-.78 2.05 0 2.83L4 21.41c.39.39.9.59 1.41.59.51 0 1.02-.2 1.41-.59l7.78-7.78 2.81-2.81c.8-.78.8-2.07 0-2.86zM5.41 20L4 18.59l7.72-7.72 1.47 1.35L5.41 20z\"/>\n",
              "  </svg>\n",
              "      </button>\n",
              "      \n",
              "  <style>\n",
              "    .colab-df-container {\n",
              "      display:flex;\n",
              "      flex-wrap:wrap;\n",
              "      gap: 12px;\n",
              "    }\n",
              "\n",
              "    .colab-df-convert {\n",
              "      background-color: #E8F0FE;\n",
              "      border: none;\n",
              "      border-radius: 50%;\n",
              "      cursor: pointer;\n",
              "      display: none;\n",
              "      fill: #1967D2;\n",
              "      height: 32px;\n",
              "      padding: 0 0 0 0;\n",
              "      width: 32px;\n",
              "    }\n",
              "\n",
              "    .colab-df-convert:hover {\n",
              "      background-color: #E2EBFA;\n",
              "      box-shadow: 0px 1px 2px rgba(60, 64, 67, 0.3), 0px 1px 3px 1px rgba(60, 64, 67, 0.15);\n",
              "      fill: #174EA6;\n",
              "    }\n",
              "\n",
              "    [theme=dark] .colab-df-convert {\n",
              "      background-color: #3B4455;\n",
              "      fill: #D2E3FC;\n",
              "    }\n",
              "\n",
              "    [theme=dark] .colab-df-convert:hover {\n",
              "      background-color: #434B5C;\n",
              "      box-shadow: 0px 1px 3px 1px rgba(0, 0, 0, 0.15);\n",
              "      filter: drop-shadow(0px 1px 2px rgba(0, 0, 0, 0.3));\n",
              "      fill: #FFFFFF;\n",
              "    }\n",
              "  </style>\n",
              "\n",
              "      <script>\n",
              "        const buttonEl =\n",
              "          document.querySelector('#df-b570fc0f-2b63-493c-ac87-4ae9d837eed2 button.colab-df-convert');\n",
              "        buttonEl.style.display =\n",
              "          google.colab.kernel.accessAllowed ? 'block' : 'none';\n",
              "\n",
              "        async function convertToInteractive(key) {\n",
              "          const element = document.querySelector('#df-b570fc0f-2b63-493c-ac87-4ae9d837eed2');\n",
              "          const dataTable =\n",
              "            await google.colab.kernel.invokeFunction('convertToInteractive',\n",
              "                                                     [key], {});\n",
              "          if (!dataTable) return;\n",
              "\n",
              "          const docLinkHtml = 'Like what you see? Visit the ' +\n",
              "            '<a target=\"_blank\" href=https://colab.research.google.com/notebooks/data_table.ipynb>data table notebook</a>'\n",
              "            + ' to learn more about interactive tables.';\n",
              "          element.innerHTML = '';\n",
              "          dataTable['output_type'] = 'display_data';\n",
              "          await google.colab.output.renderOutput(dataTable, element);\n",
              "          const docLink = document.createElement('div');\n",
              "          docLink.innerHTML = docLinkHtml;\n",
              "          element.appendChild(docLink);\n",
              "        }\n",
              "      </script>\n",
              "    </div>\n",
              "  </div>\n",
              "  "
            ]
          },
          "metadata": {},
          "execution_count": 4
        }
      ]
    },
    {
      "cell_type": "code",
      "source": [
        "class AllIn(bt.Sizer):\n",
        "    def _getsizing(self, comminfo, cash, data, isbuy):\n",
        "        # print(data[0], data[1], data.open[0], data.open[1])\n",
        "        price = data.open[1]\n",
        "        # print(f\"${price:.2f}\")\n",
        "        position = self.broker.getposition(data)\n",
        "        if isbuy:\n",
        "            size = cash / price\n",
        "        else:\n",
        "            size = position.size\n",
        "\n",
        "        return size"
      ],
      "metadata": {
        "id": "MBTTJmCWyhu_"
      },
      "execution_count": 144,
      "outputs": []
    },
    {
      "cell_type": "code",
      "source": [
        "class SMACross(bt.Strategy):\n",
        "    def log(self, txt, dt=None):\n",
        "        if not self.p.printlog:\n",
        "            return\n",
        "\n",
        "        dt = dt or self.datas[0].datetime.date(0)\n",
        "        print(f\"{dt}: {txt}\", end=\"\\n\\n\")\n",
        "    \n",
        "    params = dict(\n",
        "        ma_period_short=5,\n",
        "        ma_period_long=10,\n",
        "        printlog=True,\n",
        "    )\n",
        "\n",
        "    def __init__(self):\n",
        "        # sma_5 = bt.ind.SimpleMovingAverage(\n",
        "        #     self.data.close,\n",
        "        #     period=self.p.ma_period_short,\n",
        "        #   )\n",
        "        # sma_10 = bt.ind.SimpleMovingAverage(\n",
        "        #     self.data.close,\n",
        "        #     period=self.p.ma_period_long,\n",
        "        #   )\n",
        "        # # self.ma_diff = sma_5 - sma_10\n",
        "\n",
        "        sma1 = bt.ind.SMA(period=self.p.ma_period_short)\n",
        "        sma2 = bt.ind.SMA(period=self.p.ma_period_long)\n",
        "        self.crossover = bt.ind.CrossOver(sma1, sma2)\n",
        "\n",
        "        self.dataopen = self.datas[0].open\n",
        "\n",
        "    def _log_tx(self, crossover, price, txdate=None, isbuy=False):\n",
        "        crossover = int(crossover)\n",
        "        txdate = txdate if txdate else self.datas[0].datetime.date(0)\n",
        "        if isbuy:\n",
        "            self.log(\n",
        "                f\"[bold green]buy[/], {crossover}, ${price:.2f}\",\n",
        "                txdate,\n",
        "            )\n",
        "        else:\n",
        "            self.log(\n",
        "                f\"[bold red]sell[/], {crossover}, ${price:.2f}\",\n",
        "                txdate,\n",
        "            )\n",
        "\n",
        "\n",
        "    def next(self):\n",
        "        if len(self.data) == self.data.buflen():\n",
        "            if self.position:\n",
        "                self.close(price=self.dataopen[0])\n",
        "                self._log_tx(self.crossover[0], self.dataopen[0])\n",
        "\n",
        "            return\n",
        "\n",
        "        if not self.position and self.crossover[0] > 0:\n",
        "            self.buy(price=self.dataopen[1])\n",
        "            self._log_tx(\n",
        "                self.crossover[0],\n",
        "                self.dataopen[1],\n",
        "                self.datas[0].datetime.date(1),\n",
        "                isbuy=True,\n",
        "            )\n",
        "        elif self.position and self.crossover[0] < 0:\n",
        "            self.close(price=self.dataopen[1])\n",
        "            self._log_tx(\n",
        "                self.crossover[0],\n",
        "                self.dataopen[1],\n",
        "                self.datas[0].datetime.date(1),\n",
        "            )\n",
        "      # else:\n",
        "      #   self.log(f\"crossover: {self.crossover[0]}\")"
      ],
      "metadata": {
        "id": "QsmzPe8nBzUB"
      },
      "execution_count": 141,
      "outputs": []
    },
    {
      "cell_type": "code",
      "source": [
        "data = bt.feeds.PandasData(dataname=dataset[\"2019\"])\n",
        "\n",
        "# init cerebro\n",
        "cerebro = bt.Cerebro()\n",
        "# feed data\n",
        "cerebro.adddata(data)\n",
        "# add strategy\n",
        "cerebro.addstrategy(SMACross)\n",
        "# All In\n",
        "# cerebro.addsizer(bt.sizers.AllInSizer)\n",
        "# cerebro.addsizer(bt.sizers.SizerFix, stake = 1)\n",
        "cerebro.addsizer(AllIn)\n",
        "# add analyzer\n",
        "cerebro.addanalyzer(btanalyzers.Returns, _name='returns')\n",
        "cerebro.addanalyzer(btanalyzers.AnnualReturn, _name='annual_return')\n",
        "# run backtest\n",
        "thestrats = cerebro.run()"
      ],
      "metadata": {
        "colab": {
          "base_uri": "https://localhost:8080/",
          "height": 799
        },
        "id": "y9hRdMPDEkJb",
        "outputId": "6d7a81b9-7889-4c2b-f6cf-d0e79088cfbd"
      },
      "execution_count": 145,
      "outputs": [
        {
          "output_type": "stream",
          "name": "stderr",
          "text": [
            "/usr/local/lib/python3.7/dist-packages/ipykernel_launcher.py:1: FutureWarning: Indexing a DataFrame with a datetimelike index using a single string to slice the rows, like `frame[string]`, is deprecated and will be removed in a future version. Use `frame.loc[string]` instead.\n",
            "  \"\"\"Entry point for launching an IPython kernel.\n"
          ]
        },
        {
          "output_type": "display_data",
          "data": {
            "text/plain": [
              "\u001b[1;36m2019\u001b[0m-\u001b[1;36m03\u001b[0m-\u001b[1;36m15\u001b[0m: \u001b[1;32mbuy\u001b[0m, \u001b[1;36m1\u001b[0m, $\u001b[1;36m267.07\u001b[0m\n",
              "\n"
            ],
            "text/html": [
              "<pre style=\"white-space:pre;overflow-x:auto;line-height:normal;font-family:Menlo,'DejaVu Sans Mono',consolas,'Courier New',monospace\"><span style=\"color: #008080; text-decoration-color: #008080; font-weight: bold\">2019</span>-<span style=\"color: #008080; text-decoration-color: #008080; font-weight: bold\">03</span>-<span style=\"color: #008080; text-decoration-color: #008080; font-weight: bold\">15</span>: <span style=\"color: #008000; text-decoration-color: #008000; font-weight: bold\">buy</span>, <span style=\"color: #008080; text-decoration-color: #008080; font-weight: bold\">1</span>, $<span style=\"color: #008080; text-decoration-color: #008080; font-weight: bold\">267.07</span>\n",
              "\n",
              "</pre>\n"
            ]
          },
          "metadata": {}
        },
        {
          "output_type": "display_data",
          "data": {
            "text/plain": [
              "\u001b[1;36m2019\u001b[0m-\u001b[1;36m03\u001b[0m-\u001b[1;36m27\u001b[0m: \u001b[1;31msell\u001b[0m, \u001b[1;36m-1\u001b[0m, $\u001b[1;36m267.61\u001b[0m\n",
              "\n"
            ],
            "text/html": [
              "<pre style=\"white-space:pre;overflow-x:auto;line-height:normal;font-family:Menlo,'DejaVu Sans Mono',consolas,'Courier New',monospace\"><span style=\"color: #008080; text-decoration-color: #008080; font-weight: bold\">2019</span>-<span style=\"color: #008080; text-decoration-color: #008080; font-weight: bold\">03</span>-<span style=\"color: #008080; text-decoration-color: #008080; font-weight: bold\">27</span>: <span style=\"color: #800000; text-decoration-color: #800000; font-weight: bold\">sell</span>, <span style=\"color: #008080; text-decoration-color: #008080; font-weight: bold\">-1</span>, $<span style=\"color: #008080; text-decoration-color: #008080; font-weight: bold\">267.61</span>\n",
              "\n",
              "</pre>\n"
            ]
          },
          "metadata": {}
        },
        {
          "output_type": "display_data",
          "data": {
            "text/plain": [
              "\u001b[1;36m2019\u001b[0m-\u001b[1;36m04\u001b[0m-\u001b[1;36m02\u001b[0m: \u001b[1;32mbuy\u001b[0m, \u001b[1;36m1\u001b[0m, $\u001b[1;36m272.30\u001b[0m\n",
              "\n"
            ],
            "text/html": [
              "<pre style=\"white-space:pre;overflow-x:auto;line-height:normal;font-family:Menlo,'DejaVu Sans Mono',consolas,'Courier New',monospace\"><span style=\"color: #008080; text-decoration-color: #008080; font-weight: bold\">2019</span>-<span style=\"color: #008080; text-decoration-color: #008080; font-weight: bold\">04</span>-<span style=\"color: #008080; text-decoration-color: #008080; font-weight: bold\">02</span>: <span style=\"color: #008000; text-decoration-color: #008000; font-weight: bold\">buy</span>, <span style=\"color: #008080; text-decoration-color: #008080; font-weight: bold\">1</span>, $<span style=\"color: #008080; text-decoration-color: #008080; font-weight: bold\">272.30</span>\n",
              "\n",
              "</pre>\n"
            ]
          },
          "metadata": {}
        },
        {
          "output_type": "display_data",
          "data": {
            "text/plain": [
              "\u001b[1;36m2019\u001b[0m-\u001b[1;36m05\u001b[0m-\u001b[1;36m07\u001b[0m: \u001b[1;31msell\u001b[0m, \u001b[1;36m-1\u001b[0m, $\u001b[1;36m276.22\u001b[0m\n",
              "\n"
            ],
            "text/html": [
              "<pre style=\"white-space:pre;overflow-x:auto;line-height:normal;font-family:Menlo,'DejaVu Sans Mono',consolas,'Courier New',monospace\"><span style=\"color: #008080; text-decoration-color: #008080; font-weight: bold\">2019</span>-<span style=\"color: #008080; text-decoration-color: #008080; font-weight: bold\">05</span>-<span style=\"color: #008080; text-decoration-color: #008080; font-weight: bold\">07</span>: <span style=\"color: #800000; text-decoration-color: #800000; font-weight: bold\">sell</span>, <span style=\"color: #008080; text-decoration-color: #008080; font-weight: bold\">-1</span>, $<span style=\"color: #008080; text-decoration-color: #008080; font-weight: bold\">276.22</span>\n",
              "\n",
              "</pre>\n"
            ]
          },
          "metadata": {}
        },
        {
          "output_type": "display_data",
          "data": {
            "text/plain": [
              "\u001b[1;36m2019\u001b[0m-\u001b[1;36m05\u001b[0m-\u001b[1;36m22\u001b[0m: \u001b[1;32mbuy\u001b[0m, \u001b[1;36m1\u001b[0m, $\u001b[1;36m271.74\u001b[0m\n",
              "\n"
            ],
            "text/html": [
              "<pre style=\"white-space:pre;overflow-x:auto;line-height:normal;font-family:Menlo,'DejaVu Sans Mono',consolas,'Courier New',monospace\"><span style=\"color: #008080; text-decoration-color: #008080; font-weight: bold\">2019</span>-<span style=\"color: #008080; text-decoration-color: #008080; font-weight: bold\">05</span>-<span style=\"color: #008080; text-decoration-color: #008080; font-weight: bold\">22</span>: <span style=\"color: #008000; text-decoration-color: #008000; font-weight: bold\">buy</span>, <span style=\"color: #008080; text-decoration-color: #008080; font-weight: bold\">1</span>, $<span style=\"color: #008080; text-decoration-color: #008080; font-weight: bold\">271.74</span>\n",
              "\n",
              "</pre>\n"
            ]
          },
          "metadata": {}
        },
        {
          "output_type": "display_data",
          "data": {
            "text/plain": [
              "\u001b[1;36m2019\u001b[0m-\u001b[1;36m05\u001b[0m-\u001b[1;36m24\u001b[0m: \u001b[1;31msell\u001b[0m, \u001b[1;36m-1\u001b[0m, $\u001b[1;36m270.12\u001b[0m\n",
              "\n"
            ],
            "text/html": [
              "<pre style=\"white-space:pre;overflow-x:auto;line-height:normal;font-family:Menlo,'DejaVu Sans Mono',consolas,'Courier New',monospace\"><span style=\"color: #008080; text-decoration-color: #008080; font-weight: bold\">2019</span>-<span style=\"color: #008080; text-decoration-color: #008080; font-weight: bold\">05</span>-<span style=\"color: #008080; text-decoration-color: #008080; font-weight: bold\">24</span>: <span style=\"color: #800000; text-decoration-color: #800000; font-weight: bold\">sell</span>, <span style=\"color: #008080; text-decoration-color: #008080; font-weight: bold\">-1</span>, $<span style=\"color: #008080; text-decoration-color: #008080; font-weight: bold\">270.12</span>\n",
              "\n",
              "</pre>\n"
            ]
          },
          "metadata": {}
        },
        {
          "output_type": "display_data",
          "data": {
            "text/plain": [
              "\u001b[1;36m2019\u001b[0m-\u001b[1;36m06\u001b[0m-\u001b[1;36m10\u001b[0m: \u001b[1;32mbuy\u001b[0m, \u001b[1;36m1\u001b[0m, $\u001b[1;36m275.47\u001b[0m\n",
              "\n"
            ],
            "text/html": [
              "<pre style=\"white-space:pre;overflow-x:auto;line-height:normal;font-family:Menlo,'DejaVu Sans Mono',consolas,'Courier New',monospace\"><span style=\"color: #008080; text-decoration-color: #008080; font-weight: bold\">2019</span>-<span style=\"color: #008080; text-decoration-color: #008080; font-weight: bold\">06</span>-<span style=\"color: #008080; text-decoration-color: #008080; font-weight: bold\">10</span>: <span style=\"color: #008000; text-decoration-color: #008000; font-weight: bold\">buy</span>, <span style=\"color: #008080; text-decoration-color: #008080; font-weight: bold\">1</span>, $<span style=\"color: #008080; text-decoration-color: #008080; font-weight: bold\">275.47</span>\n",
              "\n",
              "</pre>\n"
            ]
          },
          "metadata": {}
        },
        {
          "output_type": "display_data",
          "data": {
            "text/plain": [
              "\u001b[1;36m2019\u001b[0m-\u001b[1;36m07\u001b[0m-\u001b[1;36m02\u001b[0m: \u001b[1;31msell\u001b[0m, \u001b[1;36m-1\u001b[0m, $\u001b[1;36m282.78\u001b[0m\n",
              "\n"
            ],
            "text/html": [
              "<pre style=\"white-space:pre;overflow-x:auto;line-height:normal;font-family:Menlo,'DejaVu Sans Mono',consolas,'Courier New',monospace\"><span style=\"color: #008080; text-decoration-color: #008080; font-weight: bold\">2019</span>-<span style=\"color: #008080; text-decoration-color: #008080; font-weight: bold\">07</span>-<span style=\"color: #008080; text-decoration-color: #008080; font-weight: bold\">02</span>: <span style=\"color: #800000; text-decoration-color: #800000; font-weight: bold\">sell</span>, <span style=\"color: #008080; text-decoration-color: #008080; font-weight: bold\">-1</span>, $<span style=\"color: #008080; text-decoration-color: #008080; font-weight: bold\">282.78</span>\n",
              "\n",
              "</pre>\n"
            ]
          },
          "metadata": {}
        },
        {
          "output_type": "display_data",
          "data": {
            "text/plain": [
              "\u001b[1;36m2019\u001b[0m-\u001b[1;36m07\u001b[0m-\u001b[1;36m03\u001b[0m: \u001b[1;32mbuy\u001b[0m, \u001b[1;36m1\u001b[0m, $\u001b[1;36m284.29\u001b[0m\n",
              "\n"
            ],
            "text/html": [
              "<pre style=\"white-space:pre;overflow-x:auto;line-height:normal;font-family:Menlo,'DejaVu Sans Mono',consolas,'Courier New',monospace\"><span style=\"color: #008080; text-decoration-color: #008080; font-weight: bold\">2019</span>-<span style=\"color: #008080; text-decoration-color: #008080; font-weight: bold\">07</span>-<span style=\"color: #008080; text-decoration-color: #008080; font-weight: bold\">03</span>: <span style=\"color: #008000; text-decoration-color: #008000; font-weight: bold\">buy</span>, <span style=\"color: #008080; text-decoration-color: #008080; font-weight: bold\">1</span>, $<span style=\"color: #008080; text-decoration-color: #008080; font-weight: bold\">284.29</span>\n",
              "\n",
              "</pre>\n"
            ]
          },
          "metadata": {}
        },
        {
          "output_type": "display_data",
          "data": {
            "text/plain": [
              "\u001b[1;36m2019\u001b[0m-\u001b[1;36m07\u001b[0m-\u001b[1;36m23\u001b[0m: \u001b[1;31msell\u001b[0m, \u001b[1;36m-1\u001b[0m, $\u001b[1;36m286.16\u001b[0m\n",
              "\n"
            ],
            "text/html": [
              "<pre style=\"white-space:pre;overflow-x:auto;line-height:normal;font-family:Menlo,'DejaVu Sans Mono',consolas,'Courier New',monospace\"><span style=\"color: #008080; text-decoration-color: #008080; font-weight: bold\">2019</span>-<span style=\"color: #008080; text-decoration-color: #008080; font-weight: bold\">07</span>-<span style=\"color: #008080; text-decoration-color: #008080; font-weight: bold\">23</span>: <span style=\"color: #800000; text-decoration-color: #800000; font-weight: bold\">sell</span>, <span style=\"color: #008080; text-decoration-color: #008080; font-weight: bold\">-1</span>, $<span style=\"color: #008080; text-decoration-color: #008080; font-weight: bold\">286.16</span>\n",
              "\n",
              "</pre>\n"
            ]
          },
          "metadata": {}
        },
        {
          "output_type": "display_data",
          "data": {
            "text/plain": [
              "\u001b[1;36m2019\u001b[0m-\u001b[1;36m07\u001b[0m-\u001b[1;36m29\u001b[0m: \u001b[1;32mbuy\u001b[0m, \u001b[1;36m1\u001b[0m, $\u001b[1;36m288.78\u001b[0m\n",
              "\n"
            ],
            "text/html": [
              "<pre style=\"white-space:pre;overflow-x:auto;line-height:normal;font-family:Menlo,'DejaVu Sans Mono',consolas,'Courier New',monospace\"><span style=\"color: #008080; text-decoration-color: #008080; font-weight: bold\">2019</span>-<span style=\"color: #008080; text-decoration-color: #008080; font-weight: bold\">07</span>-<span style=\"color: #008080; text-decoration-color: #008080; font-weight: bold\">29</span>: <span style=\"color: #008000; text-decoration-color: #008000; font-weight: bold\">buy</span>, <span style=\"color: #008080; text-decoration-color: #008080; font-weight: bold\">1</span>, $<span style=\"color: #008080; text-decoration-color: #008080; font-weight: bold\">288.78</span>\n",
              "\n",
              "</pre>\n"
            ]
          },
          "metadata": {}
        },
        {
          "output_type": "display_data",
          "data": {
            "text/plain": [
              "\u001b[1;36m2019\u001b[0m-\u001b[1;36m08\u001b[0m-\u001b[1;36m02\u001b[0m: \u001b[1;31msell\u001b[0m, \u001b[1;36m-1\u001b[0m, $\u001b[1;36m281.10\u001b[0m\n",
              "\n"
            ],
            "text/html": [
              "<pre style=\"white-space:pre;overflow-x:auto;line-height:normal;font-family:Menlo,'DejaVu Sans Mono',consolas,'Courier New',monospace\"><span style=\"color: #008080; text-decoration-color: #008080; font-weight: bold\">2019</span>-<span style=\"color: #008080; text-decoration-color: #008080; font-weight: bold\">08</span>-<span style=\"color: #008080; text-decoration-color: #008080; font-weight: bold\">02</span>: <span style=\"color: #800000; text-decoration-color: #800000; font-weight: bold\">sell</span>, <span style=\"color: #008080; text-decoration-color: #008080; font-weight: bold\">-1</span>, $<span style=\"color: #008080; text-decoration-color: #008080; font-weight: bold\">281.10</span>\n",
              "\n",
              "</pre>\n"
            ]
          },
          "metadata": {}
        },
        {
          "output_type": "display_data",
          "data": {
            "text/plain": [
              "\u001b[1;36m2019\u001b[0m-\u001b[1;36m08\u001b[0m-\u001b[1;36m15\u001b[0m: \u001b[1;32mbuy\u001b[0m, \u001b[1;36m1\u001b[0m, $\u001b[1;36m272.52\u001b[0m\n",
              "\n"
            ],
            "text/html": [
              "<pre style=\"white-space:pre;overflow-x:auto;line-height:normal;font-family:Menlo,'DejaVu Sans Mono',consolas,'Courier New',monospace\"><span style=\"color: #008080; text-decoration-color: #008080; font-weight: bold\">2019</span>-<span style=\"color: #008080; text-decoration-color: #008080; font-weight: bold\">08</span>-<span style=\"color: #008080; text-decoration-color: #008080; font-weight: bold\">15</span>: <span style=\"color: #008000; text-decoration-color: #008000; font-weight: bold\">buy</span>, <span style=\"color: #008080; text-decoration-color: #008080; font-weight: bold\">1</span>, $<span style=\"color: #008080; text-decoration-color: #008080; font-weight: bold\">272.52</span>\n",
              "\n",
              "</pre>\n"
            ]
          },
          "metadata": {}
        },
        {
          "output_type": "display_data",
          "data": {
            "text/plain": [
              "\u001b[1;36m2019\u001b[0m-\u001b[1;36m08\u001b[0m-\u001b[1;36m16\u001b[0m: \u001b[1;31msell\u001b[0m, \u001b[1;36m-1\u001b[0m, $\u001b[1;36m274.05\u001b[0m\n",
              "\n"
            ],
            "text/html": [
              "<pre style=\"white-space:pre;overflow-x:auto;line-height:normal;font-family:Menlo,'DejaVu Sans Mono',consolas,'Courier New',monospace\"><span style=\"color: #008080; text-decoration-color: #008080; font-weight: bold\">2019</span>-<span style=\"color: #008080; text-decoration-color: #008080; font-weight: bold\">08</span>-<span style=\"color: #008080; text-decoration-color: #008080; font-weight: bold\">16</span>: <span style=\"color: #800000; text-decoration-color: #800000; font-weight: bold\">sell</span>, <span style=\"color: #008080; text-decoration-color: #008080; font-weight: bold\">-1</span>, $<span style=\"color: #008080; text-decoration-color: #008080; font-weight: bold\">274.05</span>\n",
              "\n",
              "</pre>\n"
            ]
          },
          "metadata": {}
        },
        {
          "output_type": "display_data",
          "data": {
            "text/plain": [
              "\u001b[1;36m2019\u001b[0m-\u001b[1;36m08\u001b[0m-\u001b[1;36m23\u001b[0m: \u001b[1;32mbuy\u001b[0m, \u001b[1;36m1\u001b[0m, $\u001b[1;36m278.30\u001b[0m\n",
              "\n"
            ],
            "text/html": [
              "<pre style=\"white-space:pre;overflow-x:auto;line-height:normal;font-family:Menlo,'DejaVu Sans Mono',consolas,'Courier New',monospace\"><span style=\"color: #008080; text-decoration-color: #008080; font-weight: bold\">2019</span>-<span style=\"color: #008080; text-decoration-color: #008080; font-weight: bold\">08</span>-<span style=\"color: #008080; text-decoration-color: #008080; font-weight: bold\">23</span>: <span style=\"color: #008000; text-decoration-color: #008000; font-weight: bold\">buy</span>, <span style=\"color: #008080; text-decoration-color: #008080; font-weight: bold\">1</span>, $<span style=\"color: #008080; text-decoration-color: #008080; font-weight: bold\">278.30</span>\n",
              "\n",
              "</pre>\n"
            ]
          },
          "metadata": {}
        },
        {
          "output_type": "display_data",
          "data": {
            "text/plain": [
              "\u001b[1;36m2019\u001b[0m-\u001b[1;36m08\u001b[0m-\u001b[1;36m29\u001b[0m: \u001b[1;31msell\u001b[0m, \u001b[1;36m-1\u001b[0m, $\u001b[1;36m279.06\u001b[0m\n",
              "\n"
            ],
            "text/html": [
              "<pre style=\"white-space:pre;overflow-x:auto;line-height:normal;font-family:Menlo,'DejaVu Sans Mono',consolas,'Courier New',monospace\"><span style=\"color: #008080; text-decoration-color: #008080; font-weight: bold\">2019</span>-<span style=\"color: #008080; text-decoration-color: #008080; font-weight: bold\">08</span>-<span style=\"color: #008080; text-decoration-color: #008080; font-weight: bold\">29</span>: <span style=\"color: #800000; text-decoration-color: #800000; font-weight: bold\">sell</span>, <span style=\"color: #008080; text-decoration-color: #008080; font-weight: bold\">-1</span>, $<span style=\"color: #008080; text-decoration-color: #008080; font-weight: bold\">279.06</span>\n",
              "\n",
              "</pre>\n"
            ]
          },
          "metadata": {}
        },
        {
          "output_type": "display_data",
          "data": {
            "text/plain": [
              "\u001b[1;36m2019\u001b[0m-\u001b[1;36m09\u001b[0m-\u001b[1;36m04\u001b[0m: \u001b[1;32mbuy\u001b[0m, \u001b[1;36m1\u001b[0m, $\u001b[1;36m280.42\u001b[0m\n",
              "\n"
            ],
            "text/html": [
              "<pre style=\"white-space:pre;overflow-x:auto;line-height:normal;font-family:Menlo,'DejaVu Sans Mono',consolas,'Courier New',monospace\"><span style=\"color: #008080; text-decoration-color: #008080; font-weight: bold\">2019</span>-<span style=\"color: #008080; text-decoration-color: #008080; font-weight: bold\">09</span>-<span style=\"color: #008080; text-decoration-color: #008080; font-weight: bold\">04</span>: <span style=\"color: #008000; text-decoration-color: #008000; font-weight: bold\">buy</span>, <span style=\"color: #008080; text-decoration-color: #008080; font-weight: bold\">1</span>, $<span style=\"color: #008080; text-decoration-color: #008080; font-weight: bold\">280.42</span>\n",
              "\n",
              "</pre>\n"
            ]
          },
          "metadata": {}
        },
        {
          "output_type": "display_data",
          "data": {
            "text/plain": [
              "\u001b[1;36m2019\u001b[0m-\u001b[1;36m09\u001b[0m-\u001b[1;36m25\u001b[0m: \u001b[1;31msell\u001b[0m, \u001b[1;36m-1\u001b[0m, $\u001b[1;36m284.43\u001b[0m\n",
              "\n"
            ],
            "text/html": [
              "<pre style=\"white-space:pre;overflow-x:auto;line-height:normal;font-family:Menlo,'DejaVu Sans Mono',consolas,'Courier New',monospace\"><span style=\"color: #008080; text-decoration-color: #008080; font-weight: bold\">2019</span>-<span style=\"color: #008080; text-decoration-color: #008080; font-weight: bold\">09</span>-<span style=\"color: #008080; text-decoration-color: #008080; font-weight: bold\">25</span>: <span style=\"color: #800000; text-decoration-color: #800000; font-weight: bold\">sell</span>, <span style=\"color: #008080; text-decoration-color: #008080; font-weight: bold\">-1</span>, $<span style=\"color: #008080; text-decoration-color: #008080; font-weight: bold\">284.43</span>\n",
              "\n",
              "</pre>\n"
            ]
          },
          "metadata": {}
        },
        {
          "output_type": "display_data",
          "data": {
            "text/plain": [
              "\u001b[1;36m2019\u001b[0m-\u001b[1;36m10\u001b[0m-\u001b[1;36m15\u001b[0m: \u001b[1;32mbuy\u001b[0m, \u001b[1;36m1\u001b[0m, $\u001b[1;36m285.52\u001b[0m\n",
              "\n"
            ],
            "text/html": [
              "<pre style=\"white-space:pre;overflow-x:auto;line-height:normal;font-family:Menlo,'DejaVu Sans Mono',consolas,'Courier New',monospace\"><span style=\"color: #008080; text-decoration-color: #008080; font-weight: bold\">2019</span>-<span style=\"color: #008080; text-decoration-color: #008080; font-weight: bold\">10</span>-<span style=\"color: #008080; text-decoration-color: #008080; font-weight: bold\">15</span>: <span style=\"color: #008000; text-decoration-color: #008000; font-weight: bold\">buy</span>, <span style=\"color: #008080; text-decoration-color: #008080; font-weight: bold\">1</span>, $<span style=\"color: #008080; text-decoration-color: #008080; font-weight: bold\">285.52</span>\n",
              "\n",
              "</pre>\n"
            ]
          },
          "metadata": {}
        },
        {
          "output_type": "display_data",
          "data": {
            "text/plain": [
              "\u001b[1;36m2019\u001b[0m-\u001b[1;36m12\u001b[0m-\u001b[1;36m06\u001b[0m: \u001b[1;31msell\u001b[0m, \u001b[1;36m-1\u001b[0m, $\u001b[1;36m301.88\u001b[0m\n",
              "\n"
            ],
            "text/html": [
              "<pre style=\"white-space:pre;overflow-x:auto;line-height:normal;font-family:Menlo,'DejaVu Sans Mono',consolas,'Courier New',monospace\"><span style=\"color: #008080; text-decoration-color: #008080; font-weight: bold\">2019</span>-<span style=\"color: #008080; text-decoration-color: #008080; font-weight: bold\">12</span>-<span style=\"color: #008080; text-decoration-color: #008080; font-weight: bold\">06</span>: <span style=\"color: #800000; text-decoration-color: #800000; font-weight: bold\">sell</span>, <span style=\"color: #008080; text-decoration-color: #008080; font-weight: bold\">-1</span>, $<span style=\"color: #008080; text-decoration-color: #008080; font-weight: bold\">301.88</span>\n",
              "\n",
              "</pre>\n"
            ]
          },
          "metadata": {}
        },
        {
          "output_type": "display_data",
          "data": {
            "text/plain": [
              "\u001b[1;36m2019\u001b[0m-\u001b[1;36m12\u001b[0m-\u001b[1;36m11\u001b[0m: \u001b[1;32mbuy\u001b[0m, \u001b[1;36m1\u001b[0m, $\u001b[1;36m301.79\u001b[0m\n",
              "\n"
            ],
            "text/html": [
              "<pre style=\"white-space:pre;overflow-x:auto;line-height:normal;font-family:Menlo,'DejaVu Sans Mono',consolas,'Courier New',monospace\"><span style=\"color: #008080; text-decoration-color: #008080; font-weight: bold\">2019</span>-<span style=\"color: #008080; text-decoration-color: #008080; font-weight: bold\">12</span>-<span style=\"color: #008080; text-decoration-color: #008080; font-weight: bold\">11</span>: <span style=\"color: #008000; text-decoration-color: #008000; font-weight: bold\">buy</span>, <span style=\"color: #008080; text-decoration-color: #008080; font-weight: bold\">1</span>, $<span style=\"color: #008080; text-decoration-color: #008080; font-weight: bold\">301.79</span>\n",
              "\n",
              "</pre>\n"
            ]
          },
          "metadata": {}
        },
        {
          "output_type": "display_data",
          "data": {
            "text/plain": [
              "\u001b[1;36m2019\u001b[0m-\u001b[1;36m12\u001b[0m-\u001b[1;36m31\u001b[0m: \u001b[1;31msell\u001b[0m, \u001b[1;36m0\u001b[0m, $\u001b[1;36m309.55\u001b[0m\n",
              "\n"
            ],
            "text/html": [
              "<pre style=\"white-space:pre;overflow-x:auto;line-height:normal;font-family:Menlo,'DejaVu Sans Mono',consolas,'Courier New',monospace\"><span style=\"color: #008080; text-decoration-color: #008080; font-weight: bold\">2019</span>-<span style=\"color: #008080; text-decoration-color: #008080; font-weight: bold\">12</span>-<span style=\"color: #008080; text-decoration-color: #008080; font-weight: bold\">31</span>: <span style=\"color: #800000; text-decoration-color: #800000; font-weight: bold\">sell</span>, <span style=\"color: #008080; text-decoration-color: #008080; font-weight: bold\">0</span>, $<span style=\"color: #008080; text-decoration-color: #008080; font-weight: bold\">309.55</span>\n",
              "\n",
              "</pre>\n"
            ]
          },
          "metadata": {}
        }
      ]
    },
    {
      "cell_type": "code",
      "source": [
        "thestrat = thestrats[0]\n",
        "print(\"Returns:\")\n",
        "for k, v in thestrat.analyzers.returns.get_analysis().items():\n",
        "    print(f\"{k}:\", f\"{v * 100:.2f}%\")\n",
        "\n",
        "print(\"-\" * 32)\n",
        "print(\"Annual Return:\")\n",
        "for k, v in thestrat.analyzers.annual_return.get_analysis().items():\n",
        "    print(f\"{k}:\", f\"{v * 100:.2f}%\")"
      ],
      "metadata": {
        "colab": {
          "base_uri": "https://localhost:8080/",
          "height": 149
        },
        "id": "pcfXQOosFYgv",
        "outputId": "f21795e3-bc84-4816-faa2-b599c65c0964"
      },
      "execution_count": 143,
      "outputs": [
        {
          "output_type": "display_data",
          "data": {
            "text/plain": [
              "Returns:\n"
            ],
            "text/html": [
              "<pre style=\"white-space:pre;overflow-x:auto;line-height:normal;font-family:Menlo,'DejaVu Sans Mono',consolas,'Courier New',monospace\">Returns:\n",
              "</pre>\n"
            ]
          },
          "metadata": {}
        },
        {
          "output_type": "display_data",
          "data": {
            "text/plain": [
              "rtot: \u001b[1;36m12.39\u001b[0m%\n"
            ],
            "text/html": [
              "<pre style=\"white-space:pre;overflow-x:auto;line-height:normal;font-family:Menlo,'DejaVu Sans Mono',consolas,'Courier New',monospace\">rtot: <span style=\"color: #008080; text-decoration-color: #008080; font-weight: bold\">12.39</span>%\n",
              "</pre>\n"
            ]
          },
          "metadata": {}
        },
        {
          "output_type": "display_data",
          "data": {
            "text/plain": [
              "ravg: \u001b[1;36m0.05\u001b[0m%\n"
            ],
            "text/html": [
              "<pre style=\"white-space:pre;overflow-x:auto;line-height:normal;font-family:Menlo,'DejaVu Sans Mono',consolas,'Courier New',monospace\">ravg: <span style=\"color: #008080; text-decoration-color: #008080; font-weight: bold\">0.05</span>%\n",
              "</pre>\n"
            ]
          },
          "metadata": {}
        },
        {
          "output_type": "display_data",
          "data": {
            "text/plain": [
              "rnorm: \u001b[1;36m13.19\u001b[0m%\n"
            ],
            "text/html": [
              "<pre style=\"white-space:pre;overflow-x:auto;line-height:normal;font-family:Menlo,'DejaVu Sans Mono',consolas,'Courier New',monospace\">rnorm: <span style=\"color: #008080; text-decoration-color: #008080; font-weight: bold\">13.19</span>%\n",
              "</pre>\n"
            ]
          },
          "metadata": {}
        },
        {
          "output_type": "display_data",
          "data": {
            "text/plain": [
              "rnorm100: \u001b[1;36m1318.50\u001b[0m%\n"
            ],
            "text/html": [
              "<pre style=\"white-space:pre;overflow-x:auto;line-height:normal;font-family:Menlo,'DejaVu Sans Mono',consolas,'Courier New',monospace\">rnorm100: <span style=\"color: #008080; text-decoration-color: #008080; font-weight: bold\">1318.50</span>%\n",
              "</pre>\n"
            ]
          },
          "metadata": {}
        },
        {
          "output_type": "display_data",
          "data": {
            "text/plain": [
              "--------------------------------\n"
            ],
            "text/html": [
              "<pre style=\"white-space:pre;overflow-x:auto;line-height:normal;font-family:Menlo,'DejaVu Sans Mono',consolas,'Courier New',monospace\">--------------------------------\n",
              "</pre>\n"
            ]
          },
          "metadata": {}
        },
        {
          "output_type": "display_data",
          "data": {
            "text/plain": [
              "Annual Return:\n"
            ],
            "text/html": [
              "<pre style=\"white-space:pre;overflow-x:auto;line-height:normal;font-family:Menlo,'DejaVu Sans Mono',consolas,'Courier New',monospace\">Annual Return:\n",
              "</pre>\n"
            ]
          },
          "metadata": {}
        },
        {
          "output_type": "display_data",
          "data": {
            "text/plain": [
              "\u001b[1;36m2019\u001b[0m: \u001b[1;36m13.19\u001b[0m%\n"
            ],
            "text/html": [
              "<pre style=\"white-space:pre;overflow-x:auto;line-height:normal;font-family:Menlo,'DejaVu Sans Mono',consolas,'Courier New',monospace\"><span style=\"color: #008080; text-decoration-color: #008080; font-weight: bold\">2019</span>: <span style=\"color: #008080; text-decoration-color: #008080; font-weight: bold\">13.19</span>%\n",
              "</pre>\n"
            ]
          },
          "metadata": {}
        }
      ]
    },
    {
      "cell_type": "code",
      "source": [
        "cerebro.plot()"
      ],
      "metadata": {
        "colab": {
          "base_uri": "https://localhost:8080/",
          "height": 35
        },
        "id": "RF2X4v8afVYT",
        "outputId": "07da7ffc-ad52-479c-df28-d13e893f4170"
      },
      "execution_count": 146,
      "outputs": [
        {
          "output_type": "execute_result",
          "data": {
            "text/plain": [
              "[[<Figure size 432x288 with 5 Axes>]]"
            ]
          },
          "metadata": {},
          "execution_count": 146
        }
      ]
    }
  ]
}