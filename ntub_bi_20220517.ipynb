{
  "nbformat": 4,
  "nbformat_minor": 0,
  "metadata": {
    "colab": {
      "name": "ntub_bi_20220517.ipynb",
      "provenance": [],
      "collapsed_sections": [],
      "authorship_tag": "ABX9TyMp1QQmoEieeXb5hhf5yGQZ",
      "include_colab_link": true
    },
    "kernelspec": {
      "name": "python3",
      "display_name": "Python 3"
    },
    "language_info": {
      "name": "python"
    }
  },
  "cells": [
    {
      "cell_type": "markdown",
      "metadata": {
        "id": "view-in-github",
        "colab_type": "text"
      },
      "source": [
        "<a href=\"https://colab.research.google.com/github/JiaWeiXie/ntub_ai_bi/blob/main/ntub_bi_20220517.ipynb\" target=\"_parent\"><img src=\"https://colab.research.google.com/assets/colab-badge.svg\" alt=\"Open In Colab\"/></a>"
      ]
    },
    {
      "cell_type": "code",
      "execution_count": 131,
      "metadata": {
        "id": "vJZHT90ggWJD"
      },
      "outputs": [],
      "source": [
        "! wget http://prdownloads.sourceforge.net/ta-lib/ta-lib-0.4.0-src.tar.gz \\\n",
        "  && sudo tar -xzf ta-lib-0.4.0-src.tar.gz \\\n",
        "  && sudo rm ta-lib-0.4.0-src.tar.gz \\\n",
        "  && cd ta-lib/ \\\n",
        "  && sudo ./configure --prefix=/usr \\\n",
        "  && sudo make \\\n",
        "  && sudo make install \\\n",
        "  && cd ~ \\\n",
        "  && sudo rm -rf ta-lib/ \\\n",
        "  && pip install -U yfinance backtrader ta-lib"
      ]
    },
    {
      "cell_type": "code",
      "source": [
        "! pip install rich"
      ],
      "metadata": {
        "colab": {
          "base_uri": "https://localhost:8080/",
          "height": 196
        },
        "id": "jy9alEWIIDum",
        "outputId": "666b2fb9-6476-41ad-c121-e0288f696413"
      },
      "execution_count": 238,
      "outputs": [
        {
          "output_type": "stream",
          "name": "stdout",
          "text": [
            "Collecting rich\n",
            "  Downloading rich-12.4.1-py3-none-any.whl (231 kB)\n",
            "\u001b[?25l\r\u001b[K     |█▍                              | 10 kB 16.0 MB/s eta 0:00:01\r\u001b[K     |██▉                             | 20 kB 10.2 MB/s eta 0:00:01\r\u001b[K     |████▎                           | 30 kB 8.4 MB/s eta 0:00:01\r\u001b[K     |█████▋                          | 40 kB 7.5 MB/s eta 0:00:01\r\u001b[K     |███████                         | 51 kB 3.6 MB/s eta 0:00:01\r\u001b[K     |████████▌                       | 61 kB 4.2 MB/s eta 0:00:01\r\u001b[K     |██████████                      | 71 kB 4.4 MB/s eta 0:00:01\r\u001b[K     |███████████▎                    | 81 kB 3.4 MB/s eta 0:00:01\r\u001b[K     |████████████▊                   | 92 kB 3.7 MB/s eta 0:00:01\r\u001b[K     |██████████████▏                 | 102 kB 4.1 MB/s eta 0:00:01\r\u001b[K     |███████████████▌                | 112 kB 4.1 MB/s eta 0:00:01\r\u001b[K     |█████████████████               | 122 kB 4.1 MB/s eta 0:00:01\r\u001b[K     |██████████████████▍             | 133 kB 4.1 MB/s eta 0:00:01\r\u001b[K     |███████████████████▉            | 143 kB 4.1 MB/s eta 0:00:01\r\u001b[K     |█████████████████████▏          | 153 kB 4.1 MB/s eta 0:00:01\r\u001b[K     |██████████████████████▋         | 163 kB 4.1 MB/s eta 0:00:01\r\u001b[K     |████████████████████████        | 174 kB 4.1 MB/s eta 0:00:01\r\u001b[K     |█████████████████████████▌      | 184 kB 4.1 MB/s eta 0:00:01\r\u001b[K     |██████████████████████████▉     | 194 kB 4.1 MB/s eta 0:00:01\r\u001b[K     |████████████████████████████▎   | 204 kB 4.1 MB/s eta 0:00:01\r\u001b[K     |█████████████████████████████▊  | 215 kB 4.1 MB/s eta 0:00:01\r\u001b[K     |███████████████████████████████ | 225 kB 4.1 MB/s eta 0:00:01\r\u001b[K     |████████████████████████████████| 231 kB 4.1 MB/s \n",
            "\u001b[?25hRequirement already satisfied: pygments<3.0.0,>=2.6.0 in /usr/local/lib/python3.7/dist-packages (from rich) (2.6.1)\n",
            "Requirement already satisfied: typing-extensions<5.0,>=4.0.0 in /usr/local/lib/python3.7/dist-packages (from rich) (4.2.0)\n",
            "Collecting commonmark<0.10.0,>=0.9.0\n",
            "  Downloading commonmark-0.9.1-py2.py3-none-any.whl (51 kB)\n",
            "\u001b[K     |████████████████████████████████| 51 kB 6.1 MB/s \n",
            "\u001b[?25hInstalling collected packages: commonmark, rich\n",
            "Successfully installed commonmark-0.9.1 rich-12.4.1\n"
          ]
        }
      ]
    },
    {
      "cell_type": "code",
      "source": [
        "import os\n",
        "import sys\n",
        "import math\n",
        "import datetime\n",
        "\n",
        "import backtrader as bt\n",
        "import backtrader.feeds as btfeeds\n",
        "import backtrader.analyzers as btanalyzers\n",
        "\n",
        "from rich import print"
      ],
      "metadata": {
        "id": "likdvRoDCFWN"
      },
      "execution_count": 240,
      "outputs": []
    },
    {
      "cell_type": "code",
      "source": [
        "import yfinance as yf\n",
        "\n",
        "spy = yf.Ticker(\"SPY\")\n",
        "dataset = spy.history(period=\"max\")\n",
        "# dataset.to_csv(\"spy_max.csv\")\n",
        "dataset[\"2019\"]"
      ],
      "metadata": {
        "colab": {
          "base_uri": "https://localhost:8080/",
          "height": 511
        },
        "id": "uM91eHrLgePh",
        "outputId": "8886e89c-0005-4597-d88e-81be5c160d9e"
      },
      "execution_count": 133,
      "outputs": [
        {
          "output_type": "stream",
          "name": "stderr",
          "text": [
            "/usr/local/lib/python3.7/dist-packages/ipykernel_launcher.py:6: FutureWarning: Indexing a DataFrame with a datetimelike index using a single string to slice the rows, like `frame[string]`, is deprecated and will be removed in a future version. Use `frame.loc[string]` instead.\n",
            "  \n"
          ]
        },
        {
          "output_type": "execute_result",
          "data": {
            "text/plain": [
              "                  Open        High         Low       Close     Volume  \\\n",
              "Date                                                                    \n",
              "2019-01-02  233.141438  238.098477  233.113005  237.122223  126925200   \n",
              "2019-01-03  235.274024  235.596289  230.952028  231.463852  144140700   \n",
              "2019-01-04  234.667414  239.899310  234.269337  239.216888  142628800   \n",
              "2019-01-07  239.501232  242.591076  238.553425  241.103027  103139100   \n",
              "2019-01-08  243.415648  243.880064  240.742827  243.368240  102512600   \n",
              "...                ...         ...         ...         ...        ...   \n",
              "2019-12-24  310.460928  310.509204  309.910441  310.229156   20270000   \n",
              "2019-12-26  310.634784  311.890282  310.625147  311.880615   30911200   \n",
              "2019-12-27  312.653182  312.711125  311.243190  311.803314   42528800   \n",
              "2019-12-30  311.890244  312.035101  309.572411  310.084259   49729100   \n",
              "2019-12-31  309.553146  311.098358  309.186154  310.837585   57077300   \n",
              "\n",
              "            Dividends  Stock Splits  \n",
              "Date                                 \n",
              "2019-01-02        0.0             0  \n",
              "2019-01-03        0.0             0  \n",
              "2019-01-04        0.0             0  \n",
              "2019-01-07        0.0             0  \n",
              "2019-01-08        0.0             0  \n",
              "...               ...           ...  \n",
              "2019-12-24        0.0             0  \n",
              "2019-12-26        0.0             0  \n",
              "2019-12-27        0.0             0  \n",
              "2019-12-30        0.0             0  \n",
              "2019-12-31        0.0             0  \n",
              "\n",
              "[252 rows x 7 columns]"
            ],
            "text/html": [
              "\n",
              "  <div id=\"df-958f3ca9-9058-4b41-85e7-f0df0e78aac0\">\n",
              "    <div class=\"colab-df-container\">\n",
              "      <div>\n",
              "<style scoped>\n",
              "    .dataframe tbody tr th:only-of-type {\n",
              "        vertical-align: middle;\n",
              "    }\n",
              "\n",
              "    .dataframe tbody tr th {\n",
              "        vertical-align: top;\n",
              "    }\n",
              "\n",
              "    .dataframe thead th {\n",
              "        text-align: right;\n",
              "    }\n",
              "</style>\n",
              "<table border=\"1\" class=\"dataframe\">\n",
              "  <thead>\n",
              "    <tr style=\"text-align: right;\">\n",
              "      <th></th>\n",
              "      <th>Open</th>\n",
              "      <th>High</th>\n",
              "      <th>Low</th>\n",
              "      <th>Close</th>\n",
              "      <th>Volume</th>\n",
              "      <th>Dividends</th>\n",
              "      <th>Stock Splits</th>\n",
              "    </tr>\n",
              "    <tr>\n",
              "      <th>Date</th>\n",
              "      <th></th>\n",
              "      <th></th>\n",
              "      <th></th>\n",
              "      <th></th>\n",
              "      <th></th>\n",
              "      <th></th>\n",
              "      <th></th>\n",
              "    </tr>\n",
              "  </thead>\n",
              "  <tbody>\n",
              "    <tr>\n",
              "      <th>2019-01-02</th>\n",
              "      <td>233.141438</td>\n",
              "      <td>238.098477</td>\n",
              "      <td>233.113005</td>\n",
              "      <td>237.122223</td>\n",
              "      <td>126925200</td>\n",
              "      <td>0.0</td>\n",
              "      <td>0</td>\n",
              "    </tr>\n",
              "    <tr>\n",
              "      <th>2019-01-03</th>\n",
              "      <td>235.274024</td>\n",
              "      <td>235.596289</td>\n",
              "      <td>230.952028</td>\n",
              "      <td>231.463852</td>\n",
              "      <td>144140700</td>\n",
              "      <td>0.0</td>\n",
              "      <td>0</td>\n",
              "    </tr>\n",
              "    <tr>\n",
              "      <th>2019-01-04</th>\n",
              "      <td>234.667414</td>\n",
              "      <td>239.899310</td>\n",
              "      <td>234.269337</td>\n",
              "      <td>239.216888</td>\n",
              "      <td>142628800</td>\n",
              "      <td>0.0</td>\n",
              "      <td>0</td>\n",
              "    </tr>\n",
              "    <tr>\n",
              "      <th>2019-01-07</th>\n",
              "      <td>239.501232</td>\n",
              "      <td>242.591076</td>\n",
              "      <td>238.553425</td>\n",
              "      <td>241.103027</td>\n",
              "      <td>103139100</td>\n",
              "      <td>0.0</td>\n",
              "      <td>0</td>\n",
              "    </tr>\n",
              "    <tr>\n",
              "      <th>2019-01-08</th>\n",
              "      <td>243.415648</td>\n",
              "      <td>243.880064</td>\n",
              "      <td>240.742827</td>\n",
              "      <td>243.368240</td>\n",
              "      <td>102512600</td>\n",
              "      <td>0.0</td>\n",
              "      <td>0</td>\n",
              "    </tr>\n",
              "    <tr>\n",
              "      <th>...</th>\n",
              "      <td>...</td>\n",
              "      <td>...</td>\n",
              "      <td>...</td>\n",
              "      <td>...</td>\n",
              "      <td>...</td>\n",
              "      <td>...</td>\n",
              "      <td>...</td>\n",
              "    </tr>\n",
              "    <tr>\n",
              "      <th>2019-12-24</th>\n",
              "      <td>310.460928</td>\n",
              "      <td>310.509204</td>\n",
              "      <td>309.910441</td>\n",
              "      <td>310.229156</td>\n",
              "      <td>20270000</td>\n",
              "      <td>0.0</td>\n",
              "      <td>0</td>\n",
              "    </tr>\n",
              "    <tr>\n",
              "      <th>2019-12-26</th>\n",
              "      <td>310.634784</td>\n",
              "      <td>311.890282</td>\n",
              "      <td>310.625147</td>\n",
              "      <td>311.880615</td>\n",
              "      <td>30911200</td>\n",
              "      <td>0.0</td>\n",
              "      <td>0</td>\n",
              "    </tr>\n",
              "    <tr>\n",
              "      <th>2019-12-27</th>\n",
              "      <td>312.653182</td>\n",
              "      <td>312.711125</td>\n",
              "      <td>311.243190</td>\n",
              "      <td>311.803314</td>\n",
              "      <td>42528800</td>\n",
              "      <td>0.0</td>\n",
              "      <td>0</td>\n",
              "    </tr>\n",
              "    <tr>\n",
              "      <th>2019-12-30</th>\n",
              "      <td>311.890244</td>\n",
              "      <td>312.035101</td>\n",
              "      <td>309.572411</td>\n",
              "      <td>310.084259</td>\n",
              "      <td>49729100</td>\n",
              "      <td>0.0</td>\n",
              "      <td>0</td>\n",
              "    </tr>\n",
              "    <tr>\n",
              "      <th>2019-12-31</th>\n",
              "      <td>309.553146</td>\n",
              "      <td>311.098358</td>\n",
              "      <td>309.186154</td>\n",
              "      <td>310.837585</td>\n",
              "      <td>57077300</td>\n",
              "      <td>0.0</td>\n",
              "      <td>0</td>\n",
              "    </tr>\n",
              "  </tbody>\n",
              "</table>\n",
              "<p>252 rows × 7 columns</p>\n",
              "</div>\n",
              "      <button class=\"colab-df-convert\" onclick=\"convertToInteractive('df-958f3ca9-9058-4b41-85e7-f0df0e78aac0')\"\n",
              "              title=\"Convert this dataframe to an interactive table.\"\n",
              "              style=\"display:none;\">\n",
              "        \n",
              "  <svg xmlns=\"http://www.w3.org/2000/svg\" height=\"24px\"viewBox=\"0 0 24 24\"\n",
              "       width=\"24px\">\n",
              "    <path d=\"M0 0h24v24H0V0z\" fill=\"none\"/>\n",
              "    <path d=\"M18.56 5.44l.94 2.06.94-2.06 2.06-.94-2.06-.94-.94-2.06-.94 2.06-2.06.94zm-11 1L8.5 8.5l.94-2.06 2.06-.94-2.06-.94L8.5 2.5l-.94 2.06-2.06.94zm10 10l.94 2.06.94-2.06 2.06-.94-2.06-.94-.94-2.06-.94 2.06-2.06.94z\"/><path d=\"M17.41 7.96l-1.37-1.37c-.4-.4-.92-.59-1.43-.59-.52 0-1.04.2-1.43.59L10.3 9.45l-7.72 7.72c-.78.78-.78 2.05 0 2.83L4 21.41c.39.39.9.59 1.41.59.51 0 1.02-.2 1.41-.59l7.78-7.78 2.81-2.81c.8-.78.8-2.07 0-2.86zM5.41 20L4 18.59l7.72-7.72 1.47 1.35L5.41 20z\"/>\n",
              "  </svg>\n",
              "      </button>\n",
              "      \n",
              "  <style>\n",
              "    .colab-df-container {\n",
              "      display:flex;\n",
              "      flex-wrap:wrap;\n",
              "      gap: 12px;\n",
              "    }\n",
              "\n",
              "    .colab-df-convert {\n",
              "      background-color: #E8F0FE;\n",
              "      border: none;\n",
              "      border-radius: 50%;\n",
              "      cursor: pointer;\n",
              "      display: none;\n",
              "      fill: #1967D2;\n",
              "      height: 32px;\n",
              "      padding: 0 0 0 0;\n",
              "      width: 32px;\n",
              "    }\n",
              "\n",
              "    .colab-df-convert:hover {\n",
              "      background-color: #E2EBFA;\n",
              "      box-shadow: 0px 1px 2px rgba(60, 64, 67, 0.3), 0px 1px 3px 1px rgba(60, 64, 67, 0.15);\n",
              "      fill: #174EA6;\n",
              "    }\n",
              "\n",
              "    [theme=dark] .colab-df-convert {\n",
              "      background-color: #3B4455;\n",
              "      fill: #D2E3FC;\n",
              "    }\n",
              "\n",
              "    [theme=dark] .colab-df-convert:hover {\n",
              "      background-color: #434B5C;\n",
              "      box-shadow: 0px 1px 3px 1px rgba(0, 0, 0, 0.15);\n",
              "      filter: drop-shadow(0px 1px 2px rgba(0, 0, 0, 0.3));\n",
              "      fill: #FFFFFF;\n",
              "    }\n",
              "  </style>\n",
              "\n",
              "      <script>\n",
              "        const buttonEl =\n",
              "          document.querySelector('#df-958f3ca9-9058-4b41-85e7-f0df0e78aac0 button.colab-df-convert');\n",
              "        buttonEl.style.display =\n",
              "          google.colab.kernel.accessAllowed ? 'block' : 'none';\n",
              "\n",
              "        async function convertToInteractive(key) {\n",
              "          const element = document.querySelector('#df-958f3ca9-9058-4b41-85e7-f0df0e78aac0');\n",
              "          const dataTable =\n",
              "            await google.colab.kernel.invokeFunction('convertToInteractive',\n",
              "                                                     [key], {});\n",
              "          if (!dataTable) return;\n",
              "\n",
              "          const docLinkHtml = 'Like what you see? Visit the ' +\n",
              "            '<a target=\"_blank\" href=https://colab.research.google.com/notebooks/data_table.ipynb>data table notebook</a>'\n",
              "            + ' to learn more about interactive tables.';\n",
              "          element.innerHTML = '';\n",
              "          dataTable['output_type'] = 'display_data';\n",
              "          await google.colab.output.renderOutput(dataTable, element);\n",
              "          const docLink = document.createElement('div');\n",
              "          docLink.innerHTML = docLinkHtml;\n",
              "          element.appendChild(docLink);\n",
              "        }\n",
              "      </script>\n",
              "    </div>\n",
              "  </div>\n",
              "  "
            ]
          },
          "metadata": {},
          "execution_count": 133
        }
      ]
    },
    {
      "cell_type": "code",
      "source": [
        "class SMACross(bt.Strategy):\n",
        "    def log(self, txt, dt=None):\n",
        "        dt = dt or self.datas[0].datetime.date(0)\n",
        "        print(f\"{dt}: {txt}\")\n",
        "    \n",
        "    params = dict(\n",
        "        ma_period_short=5,\n",
        "        ma_period_long=10,\n",
        "    )\n",
        "\n",
        "    def __init__(self):\n",
        "        # sma_5 = bt.ind.SimpleMovingAverage(\n",
        "        #     self.data.close,\n",
        "        #     period=self.p.ma_period_short,\n",
        "        #   )\n",
        "        # sma_10 = bt.ind.SimpleMovingAverage(\n",
        "        #     self.data.close,\n",
        "        #     period=self.p.ma_period_long,\n",
        "        #   )\n",
        "        # # self.ma_diff = sma_5 - sma_10\n",
        "        # self.crossover = bt.ind.CrossOver(sma_5, sma_10)\n",
        "\n",
        "        sma1 = bt.ind.SMA(period=self.p.ma_period_short)\n",
        "        sma2 = bt.ind.SMA(period=self.p.ma_period_long)\n",
        "        self.crossover = bt.ind.CrossOver(sma1, sma2)\n",
        "\n",
        "        self.dataopen = self.datas[0].open\n",
        "\n",
        "    def next(self):\n",
        "      if len(list(self.crossover)) == 1 and self.position:\n",
        "        self.close(size=1, price=self.dataopen[0])\n",
        "        self.log(f\"[red]sell, {self.crossover[0]}\")\n",
        "        return\n",
        "\n",
        "      if not self.position and self.crossover[0] > 0:\n",
        "          self.log(f\"[green]buy, {self.crossover[0]}\", self.datas[0].datetime.date(1))\n",
        "          self.buy(size=1, price=self.dataopen[1])\n",
        "      elif self.position and self.crossover[0] < 0:\n",
        "          self.log(f\"[red]sell, {self.crossover[0]}\", self.datas[0].datetime.date(1))\n",
        "          self.close(size=1, price=self.dataopen[1])\n",
        "      # else:\n",
        "      #   self.log(f\"crossover: {self.crossover[0]}\")"
      ],
      "metadata": {
        "id": "QsmzPe8nBzUB"
      },
      "execution_count": 245,
      "outputs": []
    },
    {
      "cell_type": "code",
      "source": [
        "data = bt.feeds.PandasData(dataname=dataset[\"2019\"])\n",
        "\n",
        "# init cerebro\n",
        "cerebro = bt.Cerebro()\n",
        "# feed data\n",
        "cerebro.adddata(data)\n",
        "# add strategy\n",
        "cerebro.addstrategy(SMACross)\n",
        "# All In\n",
        "cerebro.addsizer(bt.sizers.AllInSizer)\n",
        "# cerebro.addsizer(bt.sizers.SizerFix, stake = 1)\n",
        "# cerebro.addsizer(Sizer)\n",
        "# add analyzer\n",
        "cerebro.addanalyzer(btanalyzers.Returns, _name='returns')\n",
        "# run backtest\n",
        "thestrats = cerebro.run()\n",
        "thestrat = thestrats[0]"
      ],
      "metadata": {
        "colab": {
          "base_uri": "https://localhost:8080/",
          "height": 436
        },
        "id": "y9hRdMPDEkJb",
        "outputId": "6f13547d-69d8-48f9-d92c-15950e9d1e20"
      },
      "execution_count": 246,
      "outputs": [
        {
          "output_type": "stream",
          "name": "stderr",
          "text": [
            "/usr/local/lib/python3.7/dist-packages/ipykernel_launcher.py:1: FutureWarning: Indexing a DataFrame with a datetimelike index using a single string to slice the rows, like `frame[string]`, is deprecated and will be removed in a future version. Use `frame.loc[string]` instead.\n",
            "  \"\"\"Entry point for launching an IPython kernel.\n"
          ]
        },
        {
          "output_type": "display_data",
          "data": {
            "text/plain": [
              "\u001b[1;36m2019\u001b[0m-\u001b[1;36m03\u001b[0m-\u001b[1;36m15\u001b[0m: \u001b[32mbuy, \u001b[0m\u001b[1;32m1.0\u001b[0m\n"
            ],
            "text/html": [
              "<pre style=\"white-space:pre;overflow-x:auto;line-height:normal;font-family:Menlo,'DejaVu Sans Mono',consolas,'Courier New',monospace\"><span style=\"color: #008080; text-decoration-color: #008080; font-weight: bold\">2019</span>-<span style=\"color: #008080; text-decoration-color: #008080; font-weight: bold\">03</span>-<span style=\"color: #008080; text-decoration-color: #008080; font-weight: bold\">15</span>: <span style=\"color: #008000; text-decoration-color: #008000\">buy, </span><span style=\"color: #008000; text-decoration-color: #008000; font-weight: bold\">1.0</span>\n",
              "</pre>\n"
            ]
          },
          "metadata": {}
        },
        {
          "output_type": "display_data",
          "data": {
            "text/plain": [
              "\u001b[1;36m2019\u001b[0m-\u001b[1;36m03\u001b[0m-\u001b[1;36m27\u001b[0m: \u001b[31msell, \u001b[0m\u001b[1;31m-1.0\u001b[0m\n"
            ],
            "text/html": [
              "<pre style=\"white-space:pre;overflow-x:auto;line-height:normal;font-family:Menlo,'DejaVu Sans Mono',consolas,'Courier New',monospace\"><span style=\"color: #008080; text-decoration-color: #008080; font-weight: bold\">2019</span>-<span style=\"color: #008080; text-decoration-color: #008080; font-weight: bold\">03</span>-<span style=\"color: #008080; text-decoration-color: #008080; font-weight: bold\">27</span>: <span style=\"color: #800000; text-decoration-color: #800000\">sell, </span><span style=\"color: #800000; text-decoration-color: #800000; font-weight: bold\">-1.0</span>\n",
              "</pre>\n"
            ]
          },
          "metadata": {}
        },
        {
          "output_type": "display_data",
          "data": {
            "text/plain": [
              "\u001b[1;36m2019\u001b[0m-\u001b[1;36m04\u001b[0m-\u001b[1;36m02\u001b[0m: \u001b[32mbuy, \u001b[0m\u001b[1;32m1.0\u001b[0m\n"
            ],
            "text/html": [
              "<pre style=\"white-space:pre;overflow-x:auto;line-height:normal;font-family:Menlo,'DejaVu Sans Mono',consolas,'Courier New',monospace\"><span style=\"color: #008080; text-decoration-color: #008080; font-weight: bold\">2019</span>-<span style=\"color: #008080; text-decoration-color: #008080; font-weight: bold\">04</span>-<span style=\"color: #008080; text-decoration-color: #008080; font-weight: bold\">02</span>: <span style=\"color: #008000; text-decoration-color: #008000\">buy, </span><span style=\"color: #008000; text-decoration-color: #008000; font-weight: bold\">1.0</span>\n",
              "</pre>\n"
            ]
          },
          "metadata": {}
        },
        {
          "output_type": "display_data",
          "data": {
            "text/plain": [
              "\u001b[1;36m2019\u001b[0m-\u001b[1;36m05\u001b[0m-\u001b[1;36m07\u001b[0m: \u001b[31msell, \u001b[0m\u001b[1;31m-1.0\u001b[0m\n"
            ],
            "text/html": [
              "<pre style=\"white-space:pre;overflow-x:auto;line-height:normal;font-family:Menlo,'DejaVu Sans Mono',consolas,'Courier New',monospace\"><span style=\"color: #008080; text-decoration-color: #008080; font-weight: bold\">2019</span>-<span style=\"color: #008080; text-decoration-color: #008080; font-weight: bold\">05</span>-<span style=\"color: #008080; text-decoration-color: #008080; font-weight: bold\">07</span>: <span style=\"color: #800000; text-decoration-color: #800000\">sell, </span><span style=\"color: #800000; text-decoration-color: #800000; font-weight: bold\">-1.0</span>\n",
              "</pre>\n"
            ]
          },
          "metadata": {}
        },
        {
          "output_type": "display_data",
          "data": {
            "text/plain": [
              "\u001b[1;36m2019\u001b[0m-\u001b[1;36m05\u001b[0m-\u001b[1;36m22\u001b[0m: \u001b[32mbuy, \u001b[0m\u001b[1;32m1.0\u001b[0m\n"
            ],
            "text/html": [
              "<pre style=\"white-space:pre;overflow-x:auto;line-height:normal;font-family:Menlo,'DejaVu Sans Mono',consolas,'Courier New',monospace\"><span style=\"color: #008080; text-decoration-color: #008080; font-weight: bold\">2019</span>-<span style=\"color: #008080; text-decoration-color: #008080; font-weight: bold\">05</span>-<span style=\"color: #008080; text-decoration-color: #008080; font-weight: bold\">22</span>: <span style=\"color: #008000; text-decoration-color: #008000\">buy, </span><span style=\"color: #008000; text-decoration-color: #008000; font-weight: bold\">1.0</span>\n",
              "</pre>\n"
            ]
          },
          "metadata": {}
        },
        {
          "output_type": "display_data",
          "data": {
            "text/plain": [
              "\u001b[1;36m2019\u001b[0m-\u001b[1;36m05\u001b[0m-\u001b[1;36m24\u001b[0m: \u001b[31msell, \u001b[0m\u001b[1;31m-1.0\u001b[0m\n"
            ],
            "text/html": [
              "<pre style=\"white-space:pre;overflow-x:auto;line-height:normal;font-family:Menlo,'DejaVu Sans Mono',consolas,'Courier New',monospace\"><span style=\"color: #008080; text-decoration-color: #008080; font-weight: bold\">2019</span>-<span style=\"color: #008080; text-decoration-color: #008080; font-weight: bold\">05</span>-<span style=\"color: #008080; text-decoration-color: #008080; font-weight: bold\">24</span>: <span style=\"color: #800000; text-decoration-color: #800000\">sell, </span><span style=\"color: #800000; text-decoration-color: #800000; font-weight: bold\">-1.0</span>\n",
              "</pre>\n"
            ]
          },
          "metadata": {}
        },
        {
          "output_type": "display_data",
          "data": {
            "text/plain": [
              "\u001b[1;36m2019\u001b[0m-\u001b[1;36m06\u001b[0m-\u001b[1;36m10\u001b[0m: \u001b[32mbuy, \u001b[0m\u001b[1;32m1.0\u001b[0m\n"
            ],
            "text/html": [
              "<pre style=\"white-space:pre;overflow-x:auto;line-height:normal;font-family:Menlo,'DejaVu Sans Mono',consolas,'Courier New',monospace\"><span style=\"color: #008080; text-decoration-color: #008080; font-weight: bold\">2019</span>-<span style=\"color: #008080; text-decoration-color: #008080; font-weight: bold\">06</span>-<span style=\"color: #008080; text-decoration-color: #008080; font-weight: bold\">10</span>: <span style=\"color: #008000; text-decoration-color: #008000\">buy, </span><span style=\"color: #008000; text-decoration-color: #008000; font-weight: bold\">1.0</span>\n",
              "</pre>\n"
            ]
          },
          "metadata": {}
        },
        {
          "output_type": "display_data",
          "data": {
            "text/plain": [
              "\u001b[1;36m2019\u001b[0m-\u001b[1;36m07\u001b[0m-\u001b[1;36m02\u001b[0m: \u001b[31msell, \u001b[0m\u001b[1;31m-1.0\u001b[0m\n"
            ],
            "text/html": [
              "<pre style=\"white-space:pre;overflow-x:auto;line-height:normal;font-family:Menlo,'DejaVu Sans Mono',consolas,'Courier New',monospace\"><span style=\"color: #008080; text-decoration-color: #008080; font-weight: bold\">2019</span>-<span style=\"color: #008080; text-decoration-color: #008080; font-weight: bold\">07</span>-<span style=\"color: #008080; text-decoration-color: #008080; font-weight: bold\">02</span>: <span style=\"color: #800000; text-decoration-color: #800000\">sell, </span><span style=\"color: #800000; text-decoration-color: #800000; font-weight: bold\">-1.0</span>\n",
              "</pre>\n"
            ]
          },
          "metadata": {}
        },
        {
          "output_type": "display_data",
          "data": {
            "text/plain": [
              "\u001b[1;36m2019\u001b[0m-\u001b[1;36m07\u001b[0m-\u001b[1;36m03\u001b[0m: \u001b[32mbuy, \u001b[0m\u001b[1;32m1.0\u001b[0m\n"
            ],
            "text/html": [
              "<pre style=\"white-space:pre;overflow-x:auto;line-height:normal;font-family:Menlo,'DejaVu Sans Mono',consolas,'Courier New',monospace\"><span style=\"color: #008080; text-decoration-color: #008080; font-weight: bold\">2019</span>-<span style=\"color: #008080; text-decoration-color: #008080; font-weight: bold\">07</span>-<span style=\"color: #008080; text-decoration-color: #008080; font-weight: bold\">03</span>: <span style=\"color: #008000; text-decoration-color: #008000\">buy, </span><span style=\"color: #008000; text-decoration-color: #008000; font-weight: bold\">1.0</span>\n",
              "</pre>\n"
            ]
          },
          "metadata": {}
        },
        {
          "output_type": "display_data",
          "data": {
            "text/plain": [
              "\u001b[1;36m2019\u001b[0m-\u001b[1;36m07\u001b[0m-\u001b[1;36m23\u001b[0m: \u001b[31msell, \u001b[0m\u001b[1;31m-1.0\u001b[0m\n"
            ],
            "text/html": [
              "<pre style=\"white-space:pre;overflow-x:auto;line-height:normal;font-family:Menlo,'DejaVu Sans Mono',consolas,'Courier New',monospace\"><span style=\"color: #008080; text-decoration-color: #008080; font-weight: bold\">2019</span>-<span style=\"color: #008080; text-decoration-color: #008080; font-weight: bold\">07</span>-<span style=\"color: #008080; text-decoration-color: #008080; font-weight: bold\">23</span>: <span style=\"color: #800000; text-decoration-color: #800000\">sell, </span><span style=\"color: #800000; text-decoration-color: #800000; font-weight: bold\">-1.0</span>\n",
              "</pre>\n"
            ]
          },
          "metadata": {}
        },
        {
          "output_type": "display_data",
          "data": {
            "text/plain": [
              "\u001b[1;36m2019\u001b[0m-\u001b[1;36m07\u001b[0m-\u001b[1;36m29\u001b[0m: \u001b[32mbuy, \u001b[0m\u001b[1;32m1.0\u001b[0m\n"
            ],
            "text/html": [
              "<pre style=\"white-space:pre;overflow-x:auto;line-height:normal;font-family:Menlo,'DejaVu Sans Mono',consolas,'Courier New',monospace\"><span style=\"color: #008080; text-decoration-color: #008080; font-weight: bold\">2019</span>-<span style=\"color: #008080; text-decoration-color: #008080; font-weight: bold\">07</span>-<span style=\"color: #008080; text-decoration-color: #008080; font-weight: bold\">29</span>: <span style=\"color: #008000; text-decoration-color: #008000\">buy, </span><span style=\"color: #008000; text-decoration-color: #008000; font-weight: bold\">1.0</span>\n",
              "</pre>\n"
            ]
          },
          "metadata": {}
        },
        {
          "output_type": "display_data",
          "data": {
            "text/plain": [
              "\u001b[1;36m2019\u001b[0m-\u001b[1;36m08\u001b[0m-\u001b[1;36m02\u001b[0m: \u001b[31msell, \u001b[0m\u001b[1;31m-1.0\u001b[0m\n"
            ],
            "text/html": [
              "<pre style=\"white-space:pre;overflow-x:auto;line-height:normal;font-family:Menlo,'DejaVu Sans Mono',consolas,'Courier New',monospace\"><span style=\"color: #008080; text-decoration-color: #008080; font-weight: bold\">2019</span>-<span style=\"color: #008080; text-decoration-color: #008080; font-weight: bold\">08</span>-<span style=\"color: #008080; text-decoration-color: #008080; font-weight: bold\">02</span>: <span style=\"color: #800000; text-decoration-color: #800000\">sell, </span><span style=\"color: #800000; text-decoration-color: #800000; font-weight: bold\">-1.0</span>\n",
              "</pre>\n"
            ]
          },
          "metadata": {}
        },
        {
          "output_type": "display_data",
          "data": {
            "text/plain": [
              "\u001b[1;36m2019\u001b[0m-\u001b[1;36m08\u001b[0m-\u001b[1;36m15\u001b[0m: \u001b[32mbuy, \u001b[0m\u001b[1;32m1.0\u001b[0m\n"
            ],
            "text/html": [
              "<pre style=\"white-space:pre;overflow-x:auto;line-height:normal;font-family:Menlo,'DejaVu Sans Mono',consolas,'Courier New',monospace\"><span style=\"color: #008080; text-decoration-color: #008080; font-weight: bold\">2019</span>-<span style=\"color: #008080; text-decoration-color: #008080; font-weight: bold\">08</span>-<span style=\"color: #008080; text-decoration-color: #008080; font-weight: bold\">15</span>: <span style=\"color: #008000; text-decoration-color: #008000\">buy, </span><span style=\"color: #008000; text-decoration-color: #008000; font-weight: bold\">1.0</span>\n",
              "</pre>\n"
            ]
          },
          "metadata": {}
        },
        {
          "output_type": "display_data",
          "data": {
            "text/plain": [
              "\u001b[1;36m2019\u001b[0m-\u001b[1;36m08\u001b[0m-\u001b[1;36m16\u001b[0m: \u001b[31msell, \u001b[0m\u001b[1;31m-1.0\u001b[0m\n"
            ],
            "text/html": [
              "<pre style=\"white-space:pre;overflow-x:auto;line-height:normal;font-family:Menlo,'DejaVu Sans Mono',consolas,'Courier New',monospace\"><span style=\"color: #008080; text-decoration-color: #008080; font-weight: bold\">2019</span>-<span style=\"color: #008080; text-decoration-color: #008080; font-weight: bold\">08</span>-<span style=\"color: #008080; text-decoration-color: #008080; font-weight: bold\">16</span>: <span style=\"color: #800000; text-decoration-color: #800000\">sell, </span><span style=\"color: #800000; text-decoration-color: #800000; font-weight: bold\">-1.0</span>\n",
              "</pre>\n"
            ]
          },
          "metadata": {}
        },
        {
          "output_type": "display_data",
          "data": {
            "text/plain": [
              "\u001b[1;36m2019\u001b[0m-\u001b[1;36m08\u001b[0m-\u001b[1;36m23\u001b[0m: \u001b[32mbuy, \u001b[0m\u001b[1;32m1.0\u001b[0m\n"
            ],
            "text/html": [
              "<pre style=\"white-space:pre;overflow-x:auto;line-height:normal;font-family:Menlo,'DejaVu Sans Mono',consolas,'Courier New',monospace\"><span style=\"color: #008080; text-decoration-color: #008080; font-weight: bold\">2019</span>-<span style=\"color: #008080; text-decoration-color: #008080; font-weight: bold\">08</span>-<span style=\"color: #008080; text-decoration-color: #008080; font-weight: bold\">23</span>: <span style=\"color: #008000; text-decoration-color: #008000\">buy, </span><span style=\"color: #008000; text-decoration-color: #008000; font-weight: bold\">1.0</span>\n",
              "</pre>\n"
            ]
          },
          "metadata": {}
        },
        {
          "output_type": "display_data",
          "data": {
            "text/plain": [
              "\u001b[1;36m2019\u001b[0m-\u001b[1;36m08\u001b[0m-\u001b[1;36m29\u001b[0m: \u001b[31msell, \u001b[0m\u001b[1;31m-1.0\u001b[0m\n"
            ],
            "text/html": [
              "<pre style=\"white-space:pre;overflow-x:auto;line-height:normal;font-family:Menlo,'DejaVu Sans Mono',consolas,'Courier New',monospace\"><span style=\"color: #008080; text-decoration-color: #008080; font-weight: bold\">2019</span>-<span style=\"color: #008080; text-decoration-color: #008080; font-weight: bold\">08</span>-<span style=\"color: #008080; text-decoration-color: #008080; font-weight: bold\">29</span>: <span style=\"color: #800000; text-decoration-color: #800000\">sell, </span><span style=\"color: #800000; text-decoration-color: #800000; font-weight: bold\">-1.0</span>\n",
              "</pre>\n"
            ]
          },
          "metadata": {}
        },
        {
          "output_type": "display_data",
          "data": {
            "text/plain": [
              "\u001b[1;36m2019\u001b[0m-\u001b[1;36m09\u001b[0m-\u001b[1;36m04\u001b[0m: \u001b[32mbuy, \u001b[0m\u001b[1;32m1.0\u001b[0m\n"
            ],
            "text/html": [
              "<pre style=\"white-space:pre;overflow-x:auto;line-height:normal;font-family:Menlo,'DejaVu Sans Mono',consolas,'Courier New',monospace\"><span style=\"color: #008080; text-decoration-color: #008080; font-weight: bold\">2019</span>-<span style=\"color: #008080; text-decoration-color: #008080; font-weight: bold\">09</span>-<span style=\"color: #008080; text-decoration-color: #008080; font-weight: bold\">04</span>: <span style=\"color: #008000; text-decoration-color: #008000\">buy, </span><span style=\"color: #008000; text-decoration-color: #008000; font-weight: bold\">1.0</span>\n",
              "</pre>\n"
            ]
          },
          "metadata": {}
        },
        {
          "output_type": "display_data",
          "data": {
            "text/plain": [
              "\u001b[1;36m2019\u001b[0m-\u001b[1;36m09\u001b[0m-\u001b[1;36m25\u001b[0m: \u001b[31msell, \u001b[0m\u001b[1;31m-1.0\u001b[0m\n"
            ],
            "text/html": [
              "<pre style=\"white-space:pre;overflow-x:auto;line-height:normal;font-family:Menlo,'DejaVu Sans Mono',consolas,'Courier New',monospace\"><span style=\"color: #008080; text-decoration-color: #008080; font-weight: bold\">2019</span>-<span style=\"color: #008080; text-decoration-color: #008080; font-weight: bold\">09</span>-<span style=\"color: #008080; text-decoration-color: #008080; font-weight: bold\">25</span>: <span style=\"color: #800000; text-decoration-color: #800000\">sell, </span><span style=\"color: #800000; text-decoration-color: #800000; font-weight: bold\">-1.0</span>\n",
              "</pre>\n"
            ]
          },
          "metadata": {}
        },
        {
          "output_type": "display_data",
          "data": {
            "text/plain": [
              "\u001b[1;36m2019\u001b[0m-\u001b[1;36m10\u001b[0m-\u001b[1;36m15\u001b[0m: \u001b[32mbuy, \u001b[0m\u001b[1;32m1.0\u001b[0m\n"
            ],
            "text/html": [
              "<pre style=\"white-space:pre;overflow-x:auto;line-height:normal;font-family:Menlo,'DejaVu Sans Mono',consolas,'Courier New',monospace\"><span style=\"color: #008080; text-decoration-color: #008080; font-weight: bold\">2019</span>-<span style=\"color: #008080; text-decoration-color: #008080; font-weight: bold\">10</span>-<span style=\"color: #008080; text-decoration-color: #008080; font-weight: bold\">15</span>: <span style=\"color: #008000; text-decoration-color: #008000\">buy, </span><span style=\"color: #008000; text-decoration-color: #008000; font-weight: bold\">1.0</span>\n",
              "</pre>\n"
            ]
          },
          "metadata": {}
        },
        {
          "output_type": "display_data",
          "data": {
            "text/plain": [
              "\u001b[1;36m2019\u001b[0m-\u001b[1;36m12\u001b[0m-\u001b[1;36m06\u001b[0m: \u001b[31msell, \u001b[0m\u001b[1;31m-1.0\u001b[0m\n"
            ],
            "text/html": [
              "<pre style=\"white-space:pre;overflow-x:auto;line-height:normal;font-family:Menlo,'DejaVu Sans Mono',consolas,'Courier New',monospace\"><span style=\"color: #008080; text-decoration-color: #008080; font-weight: bold\">2019</span>-<span style=\"color: #008080; text-decoration-color: #008080; font-weight: bold\">12</span>-<span style=\"color: #008080; text-decoration-color: #008080; font-weight: bold\">06</span>: <span style=\"color: #800000; text-decoration-color: #800000\">sell, </span><span style=\"color: #800000; text-decoration-color: #800000; font-weight: bold\">-1.0</span>\n",
              "</pre>\n"
            ]
          },
          "metadata": {}
        },
        {
          "output_type": "display_data",
          "data": {
            "text/plain": [
              "\u001b[1;36m2019\u001b[0m-\u001b[1;36m12\u001b[0m-\u001b[1;36m11\u001b[0m: \u001b[32mbuy, \u001b[0m\u001b[1;32m1.0\u001b[0m\n"
            ],
            "text/html": [
              "<pre style=\"white-space:pre;overflow-x:auto;line-height:normal;font-family:Menlo,'DejaVu Sans Mono',consolas,'Courier New',monospace\"><span style=\"color: #008080; text-decoration-color: #008080; font-weight: bold\">2019</span>-<span style=\"color: #008080; text-decoration-color: #008080; font-weight: bold\">12</span>-<span style=\"color: #008080; text-decoration-color: #008080; font-weight: bold\">11</span>: <span style=\"color: #008000; text-decoration-color: #008000\">buy, </span><span style=\"color: #008000; text-decoration-color: #008000; font-weight: bold\">1.0</span>\n",
              "</pre>\n"
            ]
          },
          "metadata": {}
        },
        {
          "output_type": "display_data",
          "data": {
            "text/plain": [
              "\u001b[1;36m2019\u001b[0m-\u001b[1;36m12\u001b[0m-\u001b[1;36m31\u001b[0m: \u001b[31msell, \u001b[0m\u001b[1;31m0.0\u001b[0m\n"
            ],
            "text/html": [
              "<pre style=\"white-space:pre;overflow-x:auto;line-height:normal;font-family:Menlo,'DejaVu Sans Mono',consolas,'Courier New',monospace\"><span style=\"color: #008080; text-decoration-color: #008080; font-weight: bold\">2019</span>-<span style=\"color: #008080; text-decoration-color: #008080; font-weight: bold\">12</span>-<span style=\"color: #008080; text-decoration-color: #008080; font-weight: bold\">31</span>: <span style=\"color: #800000; text-decoration-color: #800000\">sell, </span><span style=\"color: #800000; text-decoration-color: #800000; font-weight: bold\">0.0</span>\n",
              "</pre>\n"
            ]
          },
          "metadata": {}
        }
      ]
    },
    {
      "cell_type": "code",
      "source": [
        "print(\"Returns:\")\n",
        "\n",
        "for k, v in thestrat.analyzers.returns.get_analysis().items():\n",
        "  print(f\"{k}:\", f\"{v * 100:.2f}%\")"
      ],
      "metadata": {
        "colab": {
          "base_uri": "https://localhost:8080/",
          "height": 100
        },
        "id": "pcfXQOosFYgv",
        "outputId": "5d0bb6f0-3b7e-495f-a3a9-9849c7cdb0f2"
      },
      "execution_count": 247,
      "outputs": [
        {
          "output_type": "display_data",
          "data": {
            "text/plain": [
              "Returns:\n"
            ],
            "text/html": [
              "<pre style=\"white-space:pre;overflow-x:auto;line-height:normal;font-family:Menlo,'DejaVu Sans Mono',consolas,'Courier New',monospace\">Returns:\n",
              "</pre>\n"
            ]
          },
          "metadata": {}
        },
        {
          "output_type": "display_data",
          "data": {
            "text/plain": [
              "rtot: \u001b[1;36m0.36\u001b[0m%\n"
            ],
            "text/html": [
              "<pre style=\"white-space:pre;overflow-x:auto;line-height:normal;font-family:Menlo,'DejaVu Sans Mono',consolas,'Courier New',monospace\">rtot: <span style=\"color: #008080; text-decoration-color: #008080; font-weight: bold\">0.36</span>%\n",
              "</pre>\n"
            ]
          },
          "metadata": {}
        },
        {
          "output_type": "display_data",
          "data": {
            "text/plain": [
              "ravg: \u001b[1;36m0.00\u001b[0m%\n"
            ],
            "text/html": [
              "<pre style=\"white-space:pre;overflow-x:auto;line-height:normal;font-family:Menlo,'DejaVu Sans Mono',consolas,'Courier New',monospace\">ravg: <span style=\"color: #008080; text-decoration-color: #008080; font-weight: bold\">0.00</span>%\n",
              "</pre>\n"
            ]
          },
          "metadata": {}
        },
        {
          "output_type": "display_data",
          "data": {
            "text/plain": [
              "rnorm: \u001b[1;36m0.36\u001b[0m%\n"
            ],
            "text/html": [
              "<pre style=\"white-space:pre;overflow-x:auto;line-height:normal;font-family:Menlo,'DejaVu Sans Mono',consolas,'Courier New',monospace\">rnorm: <span style=\"color: #008080; text-decoration-color: #008080; font-weight: bold\">0.36</span>%\n",
              "</pre>\n"
            ]
          },
          "metadata": {}
        },
        {
          "output_type": "display_data",
          "data": {
            "text/plain": [
              "rnorm100: \u001b[1;36m36.03\u001b[0m%\n"
            ],
            "text/html": [
              "<pre style=\"white-space:pre;overflow-x:auto;line-height:normal;font-family:Menlo,'DejaVu Sans Mono',consolas,'Courier New',monospace\">rnorm100: <span style=\"color: #008080; text-decoration-color: #008080; font-weight: bold\">36.03</span>%\n",
              "</pre>\n"
            ]
          },
          "metadata": {}
        }
      ]
    },
    {
      "cell_type": "code",
      "source": [
        "cerebro.plot()"
      ],
      "metadata": {
        "colab": {
          "base_uri": "https://localhost:8080/",
          "height": 35
        },
        "id": "RF2X4v8afVYT",
        "outputId": "0ad09f10-1a73-4c5b-8093-33b7ec0065d0"
      },
      "execution_count": 137,
      "outputs": [
        {
          "output_type": "execute_result",
          "data": {
            "text/plain": [
              "[[<Figure size 432x288 with 5 Axes>]]"
            ]
          },
          "metadata": {},
          "execution_count": 137
        }
      ]
    }
  ]
}