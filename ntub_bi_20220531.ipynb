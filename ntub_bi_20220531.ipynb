{
  "nbformat": 4,
  "nbformat_minor": 0,
  "metadata": {
    "colab": {
      "name": "ntub_bi_20220531",
      "provenance": [],
      "collapsed_sections": [],
      "authorship_tag": "ABX9TyP8v8fjzkDArDli9GGuOSy8",
      "include_colab_link": true
    },
    "kernelspec": {
      "name": "python3",
      "display_name": "Python 3"
    },
    "language_info": {
      "name": "python"
    }
  },
  "cells": [
    {
      "cell_type": "markdown",
      "metadata": {
        "id": "view-in-github",
        "colab_type": "text"
      },
      "source": [
        "<a href=\"https://colab.research.google.com/github/JiaWeiXie/ntub_ai_bi/blob/main/ntub_bi_20220531.ipynb\" target=\"_parent\"><img src=\"https://colab.research.google.com/assets/colab-badge.svg\" alt=\"Open In Colab\"/></a>"
      ]
    },
    {
      "cell_type": "code",
      "source": [
        "! pip install yfinance backtrader rich"
      ],
      "metadata": {
        "colab": {
          "base_uri": "https://localhost:8080/"
        },
        "id": "jy9alEWIIDum",
        "outputId": "a461a59e-ab12-41c9-baae-5753d9758f5d"
      },
      "execution_count": 82,
      "outputs": [
        {
          "output_type": "stream",
          "name": "stdout",
          "text": [
            "Looking in indexes: https://pypi.org/simple, https://us-python.pkg.dev/colab-wheels/public/simple/\n",
            "Requirement already satisfied: yfinance in /usr/local/lib/python3.7/dist-packages (0.1.70)\n",
            "Requirement already satisfied: backtrader in /usr/local/lib/python3.7/dist-packages (1.9.76.123)\n",
            "Requirement already satisfied: rich in /usr/local/lib/python3.7/dist-packages (12.4.4)\n",
            "Requirement already satisfied: pandas>=0.24.0 in /usr/local/lib/python3.7/dist-packages (from yfinance) (1.3.5)\n",
            "Requirement already satisfied: lxml>=4.5.1 in /usr/local/lib/python3.7/dist-packages (from yfinance) (4.8.0)\n",
            "Requirement already satisfied: requests>=2.26 in /usr/local/lib/python3.7/dist-packages (from yfinance) (2.27.1)\n",
            "Requirement already satisfied: numpy>=1.15 in /usr/local/lib/python3.7/dist-packages (from yfinance) (1.21.6)\n",
            "Requirement already satisfied: multitasking>=0.0.7 in /usr/local/lib/python3.7/dist-packages (from yfinance) (0.0.10)\n",
            "Requirement already satisfied: python-dateutil>=2.7.3 in /usr/local/lib/python3.7/dist-packages (from pandas>=0.24.0->yfinance) (2.8.2)\n",
            "Requirement already satisfied: pytz>=2017.3 in /usr/local/lib/python3.7/dist-packages (from pandas>=0.24.0->yfinance) (2022.1)\n",
            "Requirement already satisfied: six>=1.5 in /usr/local/lib/python3.7/dist-packages (from python-dateutil>=2.7.3->pandas>=0.24.0->yfinance) (1.15.0)\n",
            "Requirement already satisfied: idna<4,>=2.5 in /usr/local/lib/python3.7/dist-packages (from requests>=2.26->yfinance) (2.10)\n",
            "Requirement already satisfied: charset-normalizer~=2.0.0 in /usr/local/lib/python3.7/dist-packages (from requests>=2.26->yfinance) (2.0.12)\n",
            "Requirement already satisfied: urllib3<1.27,>=1.21.1 in /usr/local/lib/python3.7/dist-packages (from requests>=2.26->yfinance) (1.24.3)\n",
            "Requirement already satisfied: certifi>=2017.4.17 in /usr/local/lib/python3.7/dist-packages (from requests>=2.26->yfinance) (2022.5.18.1)\n",
            "Requirement already satisfied: pygments<3.0.0,>=2.6.0 in /usr/local/lib/python3.7/dist-packages (from rich) (2.6.1)\n",
            "Requirement already satisfied: commonmark<0.10.0,>=0.9.0 in /usr/local/lib/python3.7/dist-packages (from rich) (0.9.1)\n",
            "Requirement already satisfied: typing-extensions<5.0,>=4.0.0 in /usr/local/lib/python3.7/dist-packages (from rich) (4.2.0)\n"
          ]
        }
      ]
    },
    {
      "cell_type": "code",
      "source": [
        "import os\n",
        "import sys\n",
        "import math\n",
        "import datetime\n",
        "\n",
        "import backtrader as bt\n",
        "import backtrader.feeds as btfeeds\n",
        "import backtrader.analyzers as btanalyzers\n",
        "\n",
        "from rich import print"
      ],
      "metadata": {
        "id": "likdvRoDCFWN"
      },
      "execution_count": 83,
      "outputs": []
    },
    {
      "cell_type": "code",
      "source": [
        "import yfinance as yf\n",
        "\n",
        "spy = yf.Ticker(\"SPY\")\n",
        "dataset = spy.history(period=\"max\")\n",
        "# dataset.to_csv(\"spy_max.csv\")\n",
        "dataset[\"2019\"]"
      ],
      "metadata": {
        "colab": {
          "base_uri": "https://localhost:8080/",
          "height": 511
        },
        "id": "uM91eHrLgePh",
        "outputId": "ffc1ed18-7254-4ba9-f305-0e838689da20"
      },
      "execution_count": 84,
      "outputs": [
        {
          "output_type": "stream",
          "name": "stderr",
          "text": [
            "/usr/local/lib/python3.7/dist-packages/ipykernel_launcher.py:6: FutureWarning: Indexing a DataFrame with a datetimelike index using a single string to slice the rows, like `frame[string]`, is deprecated and will be removed in a future version. Use `frame.loc[string]` instead.\n",
            "  \n"
          ]
        },
        {
          "output_type": "execute_result",
          "data": {
            "text/plain": [
              "                  Open        High         Low       Close     Volume  \\\n",
              "Date                                                                    \n",
              "2019-01-02  233.141423  238.098462  233.112990  237.122208  126925200   \n",
              "2019-01-03  235.273993  235.596258  230.951998  231.463821  144140700   \n",
              "2019-01-04  234.667399  239.899295  234.269322  239.216873  142628800   \n",
              "2019-01-07  239.501232  242.591076  238.553425  241.103027  103139100   \n",
              "2019-01-08  243.415694  243.880110  240.742872  243.368286  102512600   \n",
              "...                ...         ...         ...         ...        ...   \n",
              "2019-12-24  310.460959  310.509234  309.910472  310.229187   20270000   \n",
              "2019-12-26  310.634754  311.890252  310.625116  311.880585   30911200   \n",
              "2019-12-27  312.653182  312.711125  311.243190  311.803314   42528800   \n",
              "2019-12-30  311.890274  312.035132  309.572441  310.084290   49729100   \n",
              "2019-12-31  309.553146  311.098358  309.186154  310.837585   57077300   \n",
              "\n",
              "            Dividends  Stock Splits  \n",
              "Date                                 \n",
              "2019-01-02        0.0             0  \n",
              "2019-01-03        0.0             0  \n",
              "2019-01-04        0.0             0  \n",
              "2019-01-07        0.0             0  \n",
              "2019-01-08        0.0             0  \n",
              "...               ...           ...  \n",
              "2019-12-24        0.0             0  \n",
              "2019-12-26        0.0             0  \n",
              "2019-12-27        0.0             0  \n",
              "2019-12-30        0.0             0  \n",
              "2019-12-31        0.0             0  \n",
              "\n",
              "[252 rows x 7 columns]"
            ],
            "text/html": [
              "\n",
              "  <div id=\"df-5c73674f-2ffd-4a18-a8ab-5b56cbe8ba2d\">\n",
              "    <div class=\"colab-df-container\">\n",
              "      <div>\n",
              "<style scoped>\n",
              "    .dataframe tbody tr th:only-of-type {\n",
              "        vertical-align: middle;\n",
              "    }\n",
              "\n",
              "    .dataframe tbody tr th {\n",
              "        vertical-align: top;\n",
              "    }\n",
              "\n",
              "    .dataframe thead th {\n",
              "        text-align: right;\n",
              "    }\n",
              "</style>\n",
              "<table border=\"1\" class=\"dataframe\">\n",
              "  <thead>\n",
              "    <tr style=\"text-align: right;\">\n",
              "      <th></th>\n",
              "      <th>Open</th>\n",
              "      <th>High</th>\n",
              "      <th>Low</th>\n",
              "      <th>Close</th>\n",
              "      <th>Volume</th>\n",
              "      <th>Dividends</th>\n",
              "      <th>Stock Splits</th>\n",
              "    </tr>\n",
              "    <tr>\n",
              "      <th>Date</th>\n",
              "      <th></th>\n",
              "      <th></th>\n",
              "      <th></th>\n",
              "      <th></th>\n",
              "      <th></th>\n",
              "      <th></th>\n",
              "      <th></th>\n",
              "    </tr>\n",
              "  </thead>\n",
              "  <tbody>\n",
              "    <tr>\n",
              "      <th>2019-01-02</th>\n",
              "      <td>233.141423</td>\n",
              "      <td>238.098462</td>\n",
              "      <td>233.112990</td>\n",
              "      <td>237.122208</td>\n",
              "      <td>126925200</td>\n",
              "      <td>0.0</td>\n",
              "      <td>0</td>\n",
              "    </tr>\n",
              "    <tr>\n",
              "      <th>2019-01-03</th>\n",
              "      <td>235.273993</td>\n",
              "      <td>235.596258</td>\n",
              "      <td>230.951998</td>\n",
              "      <td>231.463821</td>\n",
              "      <td>144140700</td>\n",
              "      <td>0.0</td>\n",
              "      <td>0</td>\n",
              "    </tr>\n",
              "    <tr>\n",
              "      <th>2019-01-04</th>\n",
              "      <td>234.667399</td>\n",
              "      <td>239.899295</td>\n",
              "      <td>234.269322</td>\n",
              "      <td>239.216873</td>\n",
              "      <td>142628800</td>\n",
              "      <td>0.0</td>\n",
              "      <td>0</td>\n",
              "    </tr>\n",
              "    <tr>\n",
              "      <th>2019-01-07</th>\n",
              "      <td>239.501232</td>\n",
              "      <td>242.591076</td>\n",
              "      <td>238.553425</td>\n",
              "      <td>241.103027</td>\n",
              "      <td>103139100</td>\n",
              "      <td>0.0</td>\n",
              "      <td>0</td>\n",
              "    </tr>\n",
              "    <tr>\n",
              "      <th>2019-01-08</th>\n",
              "      <td>243.415694</td>\n",
              "      <td>243.880110</td>\n",
              "      <td>240.742872</td>\n",
              "      <td>243.368286</td>\n",
              "      <td>102512600</td>\n",
              "      <td>0.0</td>\n",
              "      <td>0</td>\n",
              "    </tr>\n",
              "    <tr>\n",
              "      <th>...</th>\n",
              "      <td>...</td>\n",
              "      <td>...</td>\n",
              "      <td>...</td>\n",
              "      <td>...</td>\n",
              "      <td>...</td>\n",
              "      <td>...</td>\n",
              "      <td>...</td>\n",
              "    </tr>\n",
              "    <tr>\n",
              "      <th>2019-12-24</th>\n",
              "      <td>310.460959</td>\n",
              "      <td>310.509234</td>\n",
              "      <td>309.910472</td>\n",
              "      <td>310.229187</td>\n",
              "      <td>20270000</td>\n",
              "      <td>0.0</td>\n",
              "      <td>0</td>\n",
              "    </tr>\n",
              "    <tr>\n",
              "      <th>2019-12-26</th>\n",
              "      <td>310.634754</td>\n",
              "      <td>311.890252</td>\n",
              "      <td>310.625116</td>\n",
              "      <td>311.880585</td>\n",
              "      <td>30911200</td>\n",
              "      <td>0.0</td>\n",
              "      <td>0</td>\n",
              "    </tr>\n",
              "    <tr>\n",
              "      <th>2019-12-27</th>\n",
              "      <td>312.653182</td>\n",
              "      <td>312.711125</td>\n",
              "      <td>311.243190</td>\n",
              "      <td>311.803314</td>\n",
              "      <td>42528800</td>\n",
              "      <td>0.0</td>\n",
              "      <td>0</td>\n",
              "    </tr>\n",
              "    <tr>\n",
              "      <th>2019-12-30</th>\n",
              "      <td>311.890274</td>\n",
              "      <td>312.035132</td>\n",
              "      <td>309.572441</td>\n",
              "      <td>310.084290</td>\n",
              "      <td>49729100</td>\n",
              "      <td>0.0</td>\n",
              "      <td>0</td>\n",
              "    </tr>\n",
              "    <tr>\n",
              "      <th>2019-12-31</th>\n",
              "      <td>309.553146</td>\n",
              "      <td>311.098358</td>\n",
              "      <td>309.186154</td>\n",
              "      <td>310.837585</td>\n",
              "      <td>57077300</td>\n",
              "      <td>0.0</td>\n",
              "      <td>0</td>\n",
              "    </tr>\n",
              "  </tbody>\n",
              "</table>\n",
              "<p>252 rows × 7 columns</p>\n",
              "</div>\n",
              "      <button class=\"colab-df-convert\" onclick=\"convertToInteractive('df-5c73674f-2ffd-4a18-a8ab-5b56cbe8ba2d')\"\n",
              "              title=\"Convert this dataframe to an interactive table.\"\n",
              "              style=\"display:none;\">\n",
              "        \n",
              "  <svg xmlns=\"http://www.w3.org/2000/svg\" height=\"24px\"viewBox=\"0 0 24 24\"\n",
              "       width=\"24px\">\n",
              "    <path d=\"M0 0h24v24H0V0z\" fill=\"none\"/>\n",
              "    <path d=\"M18.56 5.44l.94 2.06.94-2.06 2.06-.94-2.06-.94-.94-2.06-.94 2.06-2.06.94zm-11 1L8.5 8.5l.94-2.06 2.06-.94-2.06-.94L8.5 2.5l-.94 2.06-2.06.94zm10 10l.94 2.06.94-2.06 2.06-.94-2.06-.94-.94-2.06-.94 2.06-2.06.94z\"/><path d=\"M17.41 7.96l-1.37-1.37c-.4-.4-.92-.59-1.43-.59-.52 0-1.04.2-1.43.59L10.3 9.45l-7.72 7.72c-.78.78-.78 2.05 0 2.83L4 21.41c.39.39.9.59 1.41.59.51 0 1.02-.2 1.41-.59l7.78-7.78 2.81-2.81c.8-.78.8-2.07 0-2.86zM5.41 20L4 18.59l7.72-7.72 1.47 1.35L5.41 20z\"/>\n",
              "  </svg>\n",
              "      </button>\n",
              "      \n",
              "  <style>\n",
              "    .colab-df-container {\n",
              "      display:flex;\n",
              "      flex-wrap:wrap;\n",
              "      gap: 12px;\n",
              "    }\n",
              "\n",
              "    .colab-df-convert {\n",
              "      background-color: #E8F0FE;\n",
              "      border: none;\n",
              "      border-radius: 50%;\n",
              "      cursor: pointer;\n",
              "      display: none;\n",
              "      fill: #1967D2;\n",
              "      height: 32px;\n",
              "      padding: 0 0 0 0;\n",
              "      width: 32px;\n",
              "    }\n",
              "\n",
              "    .colab-df-convert:hover {\n",
              "      background-color: #E2EBFA;\n",
              "      box-shadow: 0px 1px 2px rgba(60, 64, 67, 0.3), 0px 1px 3px 1px rgba(60, 64, 67, 0.15);\n",
              "      fill: #174EA6;\n",
              "    }\n",
              "\n",
              "    [theme=dark] .colab-df-convert {\n",
              "      background-color: #3B4455;\n",
              "      fill: #D2E3FC;\n",
              "    }\n",
              "\n",
              "    [theme=dark] .colab-df-convert:hover {\n",
              "      background-color: #434B5C;\n",
              "      box-shadow: 0px 1px 3px 1px rgba(0, 0, 0, 0.15);\n",
              "      filter: drop-shadow(0px 1px 2px rgba(0, 0, 0, 0.3));\n",
              "      fill: #FFFFFF;\n",
              "    }\n",
              "  </style>\n",
              "\n",
              "      <script>\n",
              "        const buttonEl =\n",
              "          document.querySelector('#df-5c73674f-2ffd-4a18-a8ab-5b56cbe8ba2d button.colab-df-convert');\n",
              "        buttonEl.style.display =\n",
              "          google.colab.kernel.accessAllowed ? 'block' : 'none';\n",
              "\n",
              "        async function convertToInteractive(key) {\n",
              "          const element = document.querySelector('#df-5c73674f-2ffd-4a18-a8ab-5b56cbe8ba2d');\n",
              "          const dataTable =\n",
              "            await google.colab.kernel.invokeFunction('convertToInteractive',\n",
              "                                                     [key], {});\n",
              "          if (!dataTable) return;\n",
              "\n",
              "          const docLinkHtml = 'Like what you see? Visit the ' +\n",
              "            '<a target=\"_blank\" href=https://colab.research.google.com/notebooks/data_table.ipynb>data table notebook</a>'\n",
              "            + ' to learn more about interactive tables.';\n",
              "          element.innerHTML = '';\n",
              "          dataTable['output_type'] = 'display_data';\n",
              "          await google.colab.output.renderOutput(dataTable, element);\n",
              "          const docLink = document.createElement('div');\n",
              "          docLink.innerHTML = docLinkHtml;\n",
              "          element.appendChild(docLink);\n",
              "        }\n",
              "      </script>\n",
              "    </div>\n",
              "  </div>\n",
              "  "
            ]
          },
          "metadata": {},
          "execution_count": 84
        }
      ]
    },
    {
      "cell_type": "code",
      "source": [
        "class AllIn(bt.Sizer):\n",
        "    def _getsizing(self, comminfo, cash, data, isbuy):\n",
        "        price = data.open[1]\n",
        "        position = self.broker.getposition(data)\n",
        "        if isbuy:\n",
        "            size = cash / price\n",
        "        else:\n",
        "            size = position.size\n",
        "\n",
        "        return size"
      ],
      "metadata": {
        "id": "MBTTJmCWyhu_"
      },
      "execution_count": 85,
      "outputs": []
    },
    {
      "cell_type": "code",
      "source": [
        "class StochRSI(bt.Indicator):\n",
        "    \"\"\"\n",
        "    隨機相對強弱指數 Stochastic RSI\n",
        "    Stoch RSI = (Current RSI - Lowest RSI)/(Highest RSI - Lowest RSI)\n",
        "    \"\"\"\n",
        "    lines = ('stochrsi',)\n",
        "    params = dict(\n",
        "        period=14,  # to apply to RSI\n",
        "        pperiod=None,  # if passed apply to HighestN/LowestN, else \"period\"\n",
        "    )\n",
        "\n",
        "    def __init__(self):\n",
        "        # Current RSI\n",
        "        rsi = bt.ind.RSI(self.data, period=self.p.period)\n",
        "\n",
        "        pperiod = self.p.pperiod or self.p.period\n",
        "        # Highest RSI\n",
        "        maxrsi = bt.ind.Highest(rsi, period=pperiod)\n",
        "        # Lowest RSI\n",
        "        minrsi = bt.ind.Lowest(rsi, period=pperiod)\n",
        "\n",
        "        # Stoch RSI = (Current RSI - Lowest RSI)/(Highest RSI - Lowest RSI)\n",
        "        self.l.stochrsi = (rsi - minrsi) / (maxrsi - minrsi)"
      ],
      "metadata": {
        "id": "j5YscztNbZVD"
      },
      "execution_count": 86,
      "outputs": []
    },
    {
      "cell_type": "code",
      "source": [
        "class StochRSIStrategy(bt.Strategy):\n",
        "    def log(self, txt, dt=None):\n",
        "        if not self.p.printlog:\n",
        "            return\n",
        "\n",
        "        dt = dt or self.datas[0].datetime.date(0)\n",
        "        print(f\"{dt}: {txt}\")\n",
        "    \n",
        "    params = dict(\n",
        "        over_bought=0.8,\n",
        "        over_sold=0.2,\n",
        "        period=14,\n",
        "        printlog=True,\n",
        "    )\n",
        "\n",
        "    def __init__(self):\n",
        "        self.stochrsi = StochRSI(self.datas[0], period=self.p.period)\n",
        "\n",
        "        self.dataopen = self.datas[0].open\n",
        "\n",
        "    def _log_tx(self, idx, price, txdate=None, isbuy=False):\n",
        "        txdate = txdate if txdate else self.datas[0].datetime.date(0)\n",
        "        if isbuy:\n",
        "            self.log(\n",
        "                f\"[bold green]buy[/], {idx:.2f}, ${price:.2f}\",\n",
        "                txdate,\n",
        "            )\n",
        "        else:\n",
        "            self.log(\n",
        "                f\"[bold red]sell[/], {idx:.2f}, ${price:.2f}\",\n",
        "                txdate,\n",
        "            )\n",
        "\n",
        "\n",
        "    def next(self):\n",
        "        if len(self.data) == self.data.buflen():\n",
        "            if self.position:\n",
        "                self.close(price=self.dataopen[0])\n",
        "                self._log_tx(self.stochrsi[0], self.dataopen[0])\n",
        "\n",
        "            return\n",
        "\n",
        "        if not self.position and 0.1 < self.stochrsi[0] < self.p.over_sold:\n",
        "            self.buy(price=self.dataopen[1])\n",
        "            self._log_tx(\n",
        "                self.stochrsi[0],\n",
        "                self.dataopen[1],\n",
        "                self.datas[0].datetime.date(1),\n",
        "                isbuy=True,\n",
        "            )\n",
        "        elif self.position and self.stochrsi[0] > self.p.over_bought:\n",
        "            self.close(price=self.dataopen[1])\n",
        "            self._log_tx(\n",
        "                self.stochrsi[0],\n",
        "                self.dataopen[1],\n",
        "                self.datas[0].datetime.date(1),\n",
        "            )"
      ],
      "metadata": {
        "id": "QsmzPe8nBzUB"
      },
      "execution_count": 87,
      "outputs": []
    },
    {
      "cell_type": "code",
      "source": [
        "data = bt.feeds.PandasData(dataname=dataset[\"2019\"])\n",
        "\n",
        "# init cerebro\n",
        "cerebro = bt.Cerebro()\n",
        "# feed data\n",
        "cerebro.adddata(data)\n",
        "# All In\n",
        "cerebro.addsizer(AllIn)\n",
        "# add strategy\n",
        "cerebro.addstrategy(StochRSIStrategy, over_bought=0.8, over_sold=0.3, period=10)\n",
        "# add analyzer\n",
        "cerebro.addanalyzer(btanalyzers.Returns, _name='returns')\n",
        "cerebro.addanalyzer(btanalyzers.AnnualReturn, _name='annual_return')\n",
        "# run backtest\n",
        "results = cerebro.run()"
      ],
      "metadata": {
        "colab": {
          "base_uri": "https://localhost:8080/",
          "height": 436
        },
        "id": "y9hRdMPDEkJb",
        "outputId": "ebf2ffd3-29b9-4bf1-a266-0dfac0414dbf"
      },
      "execution_count": 88,
      "outputs": [
        {
          "output_type": "stream",
          "name": "stderr",
          "text": [
            "/usr/local/lib/python3.7/dist-packages/ipykernel_launcher.py:1: FutureWarning: Indexing a DataFrame with a datetimelike index using a single string to slice the rows, like `frame[string]`, is deprecated and will be removed in a future version. Use `frame.loc[string]` instead.\n",
            "  \"\"\"Entry point for launching an IPython kernel.\n"
          ]
        },
        {
          "output_type": "display_data",
          "data": {
            "text/plain": [
              "\u001b[1;36m2019\u001b[0m-\u001b[1;36m02\u001b[0m-\u001b[1;36m08\u001b[0m: \u001b[1;32mbuy\u001b[0m, \u001b[1;36m0.14\u001b[0m, $\u001b[1;36m254.72\u001b[0m\n"
            ],
            "text/html": [
              "<pre style=\"white-space:pre;overflow-x:auto;line-height:normal;font-family:Menlo,'DejaVu Sans Mono',consolas,'Courier New',monospace\"><span style=\"color: #008080; text-decoration-color: #008080; font-weight: bold\">2019</span>-<span style=\"color: #008080; text-decoration-color: #008080; font-weight: bold\">02</span>-<span style=\"color: #008080; text-decoration-color: #008080; font-weight: bold\">08</span>: <span style=\"color: #008000; text-decoration-color: #008000; font-weight: bold\">buy</span>, <span style=\"color: #008080; text-decoration-color: #008080; font-weight: bold\">0.14</span>, $<span style=\"color: #008080; text-decoration-color: #008080; font-weight: bold\">254.72</span>\n",
              "</pre>\n"
            ]
          },
          "metadata": {}
        },
        {
          "output_type": "display_data",
          "data": {
            "text/plain": [
              "\u001b[1;36m2019\u001b[0m-\u001b[1;36m02\u001b[0m-\u001b[1;36m19\u001b[0m: \u001b[1;31msell\u001b[0m, \u001b[1;36m0.94\u001b[0m, $\u001b[1;36m262.05\u001b[0m\n"
            ],
            "text/html": [
              "<pre style=\"white-space:pre;overflow-x:auto;line-height:normal;font-family:Menlo,'DejaVu Sans Mono',consolas,'Courier New',monospace\"><span style=\"color: #008080; text-decoration-color: #008080; font-weight: bold\">2019</span>-<span style=\"color: #008080; text-decoration-color: #008080; font-weight: bold\">02</span>-<span style=\"color: #008080; text-decoration-color: #008080; font-weight: bold\">19</span>: <span style=\"color: #800000; text-decoration-color: #800000; font-weight: bold\">sell</span>, <span style=\"color: #008080; text-decoration-color: #008080; font-weight: bold\">0.94</span>, $<span style=\"color: #008080; text-decoration-color: #008080; font-weight: bold\">262.05</span>\n",
              "</pre>\n"
            ]
          },
          "metadata": {}
        },
        {
          "output_type": "display_data",
          "data": {
            "text/plain": [
              "\u001b[1;36m2019\u001b[0m-\u001b[1;36m03\u001b[0m-\u001b[1;36m27\u001b[0m: \u001b[1;32mbuy\u001b[0m, \u001b[1;36m0.26\u001b[0m, $\u001b[1;36m267.61\u001b[0m\n"
            ],
            "text/html": [
              "<pre style=\"white-space:pre;overflow-x:auto;line-height:normal;font-family:Menlo,'DejaVu Sans Mono',consolas,'Courier New',monospace\"><span style=\"color: #008080; text-decoration-color: #008080; font-weight: bold\">2019</span>-<span style=\"color: #008080; text-decoration-color: #008080; font-weight: bold\">03</span>-<span style=\"color: #008080; text-decoration-color: #008080; font-weight: bold\">27</span>: <span style=\"color: #008000; text-decoration-color: #008000; font-weight: bold\">buy</span>, <span style=\"color: #008080; text-decoration-color: #008080; font-weight: bold\">0.26</span>, $<span style=\"color: #008080; text-decoration-color: #008080; font-weight: bold\">267.61</span>\n",
              "</pre>\n"
            ]
          },
          "metadata": {}
        },
        {
          "output_type": "display_data",
          "data": {
            "text/plain": [
              "\u001b[1;36m2019\u001b[0m-\u001b[1;36m04\u001b[0m-\u001b[1;36m05\u001b[0m: \u001b[1;31msell\u001b[0m, \u001b[1;36m1.00\u001b[0m, $\u001b[1;36m274.09\u001b[0m\n"
            ],
            "text/html": [
              "<pre style=\"white-space:pre;overflow-x:auto;line-height:normal;font-family:Menlo,'DejaVu Sans Mono',consolas,'Courier New',monospace\"><span style=\"color: #008080; text-decoration-color: #008080; font-weight: bold\">2019</span>-<span style=\"color: #008080; text-decoration-color: #008080; font-weight: bold\">04</span>-<span style=\"color: #008080; text-decoration-color: #008080; font-weight: bold\">05</span>: <span style=\"color: #800000; text-decoration-color: #800000; font-weight: bold\">sell</span>, <span style=\"color: #008080; text-decoration-color: #008080; font-weight: bold\">1.00</span>, $<span style=\"color: #008080; text-decoration-color: #008080; font-weight: bold\">274.09</span>\n",
              "</pre>\n"
            ]
          },
          "metadata": {}
        },
        {
          "output_type": "display_data",
          "data": {
            "text/plain": [
              "\u001b[1;36m2019\u001b[0m-\u001b[1;36m04\u001b[0m-\u001b[1;36m18\u001b[0m: \u001b[1;32mbuy\u001b[0m, \u001b[1;36m0.18\u001b[0m, $\u001b[1;36m276.17\u001b[0m\n"
            ],
            "text/html": [
              "<pre style=\"white-space:pre;overflow-x:auto;line-height:normal;font-family:Menlo,'DejaVu Sans Mono',consolas,'Courier New',monospace\"><span style=\"color: #008080; text-decoration-color: #008080; font-weight: bold\">2019</span>-<span style=\"color: #008080; text-decoration-color: #008080; font-weight: bold\">04</span>-<span style=\"color: #008080; text-decoration-color: #008080; font-weight: bold\">18</span>: <span style=\"color: #008000; text-decoration-color: #008000; font-weight: bold\">buy</span>, <span style=\"color: #008080; text-decoration-color: #008080; font-weight: bold\">0.18</span>, $<span style=\"color: #008080; text-decoration-color: #008080; font-weight: bold\">276.17</span>\n",
              "</pre>\n"
            ]
          },
          "metadata": {}
        },
        {
          "output_type": "display_data",
          "data": {
            "text/plain": [
              "\u001b[1;36m2019\u001b[0m-\u001b[1;36m04\u001b[0m-\u001b[1;36m24\u001b[0m: \u001b[1;31msell\u001b[0m, \u001b[1;36m1.00\u001b[0m, $\u001b[1;36m278.73\u001b[0m\n"
            ],
            "text/html": [
              "<pre style=\"white-space:pre;overflow-x:auto;line-height:normal;font-family:Menlo,'DejaVu Sans Mono',consolas,'Courier New',monospace\"><span style=\"color: #008080; text-decoration-color: #008080; font-weight: bold\">2019</span>-<span style=\"color: #008080; text-decoration-color: #008080; font-weight: bold\">04</span>-<span style=\"color: #008080; text-decoration-color: #008080; font-weight: bold\">24</span>: <span style=\"color: #800000; text-decoration-color: #800000; font-weight: bold\">sell</span>, <span style=\"color: #008080; text-decoration-color: #008080; font-weight: bold\">1.00</span>, $<span style=\"color: #008080; text-decoration-color: #008080; font-weight: bold\">278.73</span>\n",
              "</pre>\n"
            ]
          },
          "metadata": {}
        },
        {
          "output_type": "display_data",
          "data": {
            "text/plain": [
              "\u001b[1;36m2019\u001b[0m-\u001b[1;36m05\u001b[0m-\u001b[1;36m07\u001b[0m: \u001b[1;32mbuy\u001b[0m, \u001b[1;36m0.19\u001b[0m, $\u001b[1;36m276.22\u001b[0m\n"
            ],
            "text/html": [
              "<pre style=\"white-space:pre;overflow-x:auto;line-height:normal;font-family:Menlo,'DejaVu Sans Mono',consolas,'Courier New',monospace\"><span style=\"color: #008080; text-decoration-color: #008080; font-weight: bold\">2019</span>-<span style=\"color: #008080; text-decoration-color: #008080; font-weight: bold\">05</span>-<span style=\"color: #008080; text-decoration-color: #008080; font-weight: bold\">07</span>: <span style=\"color: #008000; text-decoration-color: #008000; font-weight: bold\">buy</span>, <span style=\"color: #008080; text-decoration-color: #008080; font-weight: bold\">0.19</span>, $<span style=\"color: #008080; text-decoration-color: #008080; font-weight: bold\">276.22</span>\n",
              "</pre>\n"
            ]
          },
          "metadata": {}
        },
        {
          "output_type": "display_data",
          "data": {
            "text/plain": [
              "\u001b[1;36m2019\u001b[0m-\u001b[1;36m05\u001b[0m-\u001b[1;36m22\u001b[0m: \u001b[1;31msell\u001b[0m, \u001b[1;36m0.94\u001b[0m, $\u001b[1;36m271.74\u001b[0m\n"
            ],
            "text/html": [
              "<pre style=\"white-space:pre;overflow-x:auto;line-height:normal;font-family:Menlo,'DejaVu Sans Mono',consolas,'Courier New',monospace\"><span style=\"color: #008080; text-decoration-color: #008080; font-weight: bold\">2019</span>-<span style=\"color: #008080; text-decoration-color: #008080; font-weight: bold\">05</span>-<span style=\"color: #008080; text-decoration-color: #008080; font-weight: bold\">22</span>: <span style=\"color: #800000; text-decoration-color: #800000; font-weight: bold\">sell</span>, <span style=\"color: #008080; text-decoration-color: #008080; font-weight: bold\">0.94</span>, $<span style=\"color: #008080; text-decoration-color: #008080; font-weight: bold\">271.74</span>\n",
              "</pre>\n"
            ]
          },
          "metadata": {}
        },
        {
          "output_type": "display_data",
          "data": {
            "text/plain": [
              "\u001b[1;36m2019\u001b[0m-\u001b[1;36m05\u001b[0m-\u001b[1;36m31\u001b[0m: \u001b[1;32mbuy\u001b[0m, \u001b[1;36m0.16\u001b[0m, $\u001b[1;36m262.94\u001b[0m\n"
            ],
            "text/html": [
              "<pre style=\"white-space:pre;overflow-x:auto;line-height:normal;font-family:Menlo,'DejaVu Sans Mono',consolas,'Courier New',monospace\"><span style=\"color: #008080; text-decoration-color: #008080; font-weight: bold\">2019</span>-<span style=\"color: #008080; text-decoration-color: #008080; font-weight: bold\">05</span>-<span style=\"color: #008080; text-decoration-color: #008080; font-weight: bold\">31</span>: <span style=\"color: #008000; text-decoration-color: #008000; font-weight: bold\">buy</span>, <span style=\"color: #008080; text-decoration-color: #008080; font-weight: bold\">0.16</span>, $<span style=\"color: #008080; text-decoration-color: #008080; font-weight: bold\">262.94</span>\n",
              "</pre>\n"
            ]
          },
          "metadata": {}
        },
        {
          "output_type": "display_data",
          "data": {
            "text/plain": [
              "\u001b[1;36m2019\u001b[0m-\u001b[1;36m06\u001b[0m-\u001b[1;36m05\u001b[0m: \u001b[1;31msell\u001b[0m, \u001b[1;36m0.89\u001b[0m, $\u001b[1;36m268.77\u001b[0m\n"
            ],
            "text/html": [
              "<pre style=\"white-space:pre;overflow-x:auto;line-height:normal;font-family:Menlo,'DejaVu Sans Mono',consolas,'Courier New',monospace\"><span style=\"color: #008080; text-decoration-color: #008080; font-weight: bold\">2019</span>-<span style=\"color: #008080; text-decoration-color: #008080; font-weight: bold\">06</span>-<span style=\"color: #008080; text-decoration-color: #008080; font-weight: bold\">05</span>: <span style=\"color: #800000; text-decoration-color: #800000; font-weight: bold\">sell</span>, <span style=\"color: #008080; text-decoration-color: #008080; font-weight: bold\">0.89</span>, $<span style=\"color: #008080; text-decoration-color: #008080; font-weight: bold\">268.77</span>\n",
              "</pre>\n"
            ]
          },
          "metadata": {}
        },
        {
          "output_type": "display_data",
          "data": {
            "text/plain": [
              "\u001b[1;36m2019\u001b[0m-\u001b[1;36m06\u001b[0m-\u001b[1;36m28\u001b[0m: \u001b[1;32mbuy\u001b[0m, \u001b[1;36m0.17\u001b[0m, $\u001b[1;36m279.89\u001b[0m\n"
            ],
            "text/html": [
              "<pre style=\"white-space:pre;overflow-x:auto;line-height:normal;font-family:Menlo,'DejaVu Sans Mono',consolas,'Courier New',monospace\"><span style=\"color: #008080; text-decoration-color: #008080; font-weight: bold\">2019</span>-<span style=\"color: #008080; text-decoration-color: #008080; font-weight: bold\">06</span>-<span style=\"color: #008080; text-decoration-color: #008080; font-weight: bold\">28</span>: <span style=\"color: #008000; text-decoration-color: #008000; font-weight: bold\">buy</span>, <span style=\"color: #008080; text-decoration-color: #008080; font-weight: bold\">0.17</span>, $<span style=\"color: #008080; text-decoration-color: #008080; font-weight: bold\">279.89</span>\n",
              "</pre>\n"
            ]
          },
          "metadata": {}
        },
        {
          "output_type": "display_data",
          "data": {
            "text/plain": [
              "\u001b[1;36m2019\u001b[0m-\u001b[1;36m07\u001b[0m-\u001b[1;36m03\u001b[0m: \u001b[1;31msell\u001b[0m, \u001b[1;36m0.82\u001b[0m, $\u001b[1;36m284.29\u001b[0m\n"
            ],
            "text/html": [
              "<pre style=\"white-space:pre;overflow-x:auto;line-height:normal;font-family:Menlo,'DejaVu Sans Mono',consolas,'Courier New',monospace\"><span style=\"color: #008080; text-decoration-color: #008080; font-weight: bold\">2019</span>-<span style=\"color: #008080; text-decoration-color: #008080; font-weight: bold\">07</span>-<span style=\"color: #008080; text-decoration-color: #008080; font-weight: bold\">03</span>: <span style=\"color: #800000; text-decoration-color: #800000; font-weight: bold\">sell</span>, <span style=\"color: #008080; text-decoration-color: #008080; font-weight: bold\">0.82</span>, $<span style=\"color: #008080; text-decoration-color: #008080; font-weight: bold\">284.29</span>\n",
              "</pre>\n"
            ]
          },
          "metadata": {}
        },
        {
          "output_type": "display_data",
          "data": {
            "text/plain": [
              "\u001b[1;36m2019\u001b[0m-\u001b[1;36m07\u001b[0m-\u001b[1;36m17\u001b[0m: \u001b[1;32mbuy\u001b[0m, \u001b[1;36m0.26\u001b[0m, $\u001b[1;36m286.74\u001b[0m\n"
            ],
            "text/html": [
              "<pre style=\"white-space:pre;overflow-x:auto;line-height:normal;font-family:Menlo,'DejaVu Sans Mono',consolas,'Courier New',monospace\"><span style=\"color: #008080; text-decoration-color: #008080; font-weight: bold\">2019</span>-<span style=\"color: #008080; text-decoration-color: #008080; font-weight: bold\">07</span>-<span style=\"color: #008080; text-decoration-color: #008080; font-weight: bold\">17</span>: <span style=\"color: #008000; text-decoration-color: #008000; font-weight: bold\">buy</span>, <span style=\"color: #008080; text-decoration-color: #008080; font-weight: bold\">0.26</span>, $<span style=\"color: #008080; text-decoration-color: #008080; font-weight: bold\">286.74</span>\n",
              "</pre>\n"
            ]
          },
          "metadata": {}
        },
        {
          "output_type": "display_data",
          "data": {
            "text/plain": [
              "\u001b[1;36m2019\u001b[0m-\u001b[1;36m08\u001b[0m-\u001b[1;36m14\u001b[0m: \u001b[1;31msell\u001b[0m, \u001b[1;36m1.00\u001b[0m, $\u001b[1;36m275.57\u001b[0m\n"
            ],
            "text/html": [
              "<pre style=\"white-space:pre;overflow-x:auto;line-height:normal;font-family:Menlo,'DejaVu Sans Mono',consolas,'Courier New',monospace\"><span style=\"color: #008080; text-decoration-color: #008080; font-weight: bold\">2019</span>-<span style=\"color: #008080; text-decoration-color: #008080; font-weight: bold\">08</span>-<span style=\"color: #008080; text-decoration-color: #008080; font-weight: bold\">14</span>: <span style=\"color: #800000; text-decoration-color: #800000; font-weight: bold\">sell</span>, <span style=\"color: #008080; text-decoration-color: #008080; font-weight: bold\">1.00</span>, $<span style=\"color: #008080; text-decoration-color: #008080; font-weight: bold\">275.57</span>\n",
              "</pre>\n"
            ]
          },
          "metadata": {}
        },
        {
          "output_type": "display_data",
          "data": {
            "text/plain": [
              "\u001b[1;36m2019\u001b[0m-\u001b[1;36m08\u001b[0m-\u001b[1;36m26\u001b[0m: \u001b[1;32mbuy\u001b[0m, \u001b[1;36m0.24\u001b[0m, $\u001b[1;36m274.81\u001b[0m\n"
            ],
            "text/html": [
              "<pre style=\"white-space:pre;overflow-x:auto;line-height:normal;font-family:Menlo,'DejaVu Sans Mono',consolas,'Courier New',monospace\"><span style=\"color: #008080; text-decoration-color: #008080; font-weight: bold\">2019</span>-<span style=\"color: #008080; text-decoration-color: #008080; font-weight: bold\">08</span>-<span style=\"color: #008080; text-decoration-color: #008080; font-weight: bold\">26</span>: <span style=\"color: #008000; text-decoration-color: #008000; font-weight: bold\">buy</span>, <span style=\"color: #008080; text-decoration-color: #008080; font-weight: bold\">0.24</span>, $<span style=\"color: #008080; text-decoration-color: #008080; font-weight: bold\">274.81</span>\n",
              "</pre>\n"
            ]
          },
          "metadata": {}
        },
        {
          "output_type": "display_data",
          "data": {
            "text/plain": [
              "\u001b[1;36m2019\u001b[0m-\u001b[1;36m08\u001b[0m-\u001b[1;36m30\u001b[0m: \u001b[1;31msell\u001b[0m, \u001b[1;36m1.00\u001b[0m, $\u001b[1;36m281.45\u001b[0m\n"
            ],
            "text/html": [
              "<pre style=\"white-space:pre;overflow-x:auto;line-height:normal;font-family:Menlo,'DejaVu Sans Mono',consolas,'Courier New',monospace\"><span style=\"color: #008080; text-decoration-color: #008080; font-weight: bold\">2019</span>-<span style=\"color: #008080; text-decoration-color: #008080; font-weight: bold\">08</span>-<span style=\"color: #008080; text-decoration-color: #008080; font-weight: bold\">30</span>: <span style=\"color: #800000; text-decoration-color: #800000; font-weight: bold\">sell</span>, <span style=\"color: #008080; text-decoration-color: #008080; font-weight: bold\">1.00</span>, $<span style=\"color: #008080; text-decoration-color: #008080; font-weight: bold\">281.45</span>\n",
              "</pre>\n"
            ]
          },
          "metadata": {}
        },
        {
          "output_type": "display_data",
          "data": {
            "text/plain": [
              "\u001b[1;36m2019\u001b[0m-\u001b[1;36m09\u001b[0m-\u001b[1;36m27\u001b[0m: \u001b[1;32mbuy\u001b[0m, \u001b[1;36m0.21\u001b[0m, $\u001b[1;36m286.22\u001b[0m\n"
            ],
            "text/html": [
              "<pre style=\"white-space:pre;overflow-x:auto;line-height:normal;font-family:Menlo,'DejaVu Sans Mono',consolas,'Courier New',monospace\"><span style=\"color: #008080; text-decoration-color: #008080; font-weight: bold\">2019</span>-<span style=\"color: #008080; text-decoration-color: #008080; font-weight: bold\">09</span>-<span style=\"color: #008080; text-decoration-color: #008080; font-weight: bold\">27</span>: <span style=\"color: #008000; text-decoration-color: #008000; font-weight: bold\">buy</span>, <span style=\"color: #008080; text-decoration-color: #008080; font-weight: bold\">0.21</span>, $<span style=\"color: #008080; text-decoration-color: #008080; font-weight: bold\">286.22</span>\n",
              "</pre>\n"
            ]
          },
          "metadata": {}
        },
        {
          "output_type": "display_data",
          "data": {
            "text/plain": [
              "\u001b[1;36m2019\u001b[0m-\u001b[1;36m10\u001b[0m-\u001b[1;36m11\u001b[0m: \u001b[1;31msell\u001b[0m, \u001b[1;36m0.89\u001b[0m, $\u001b[1;36m284.72\u001b[0m\n"
            ],
            "text/html": [
              "<pre style=\"white-space:pre;overflow-x:auto;line-height:normal;font-family:Menlo,'DejaVu Sans Mono',consolas,'Courier New',monospace\"><span style=\"color: #008080; text-decoration-color: #008080; font-weight: bold\">2019</span>-<span style=\"color: #008080; text-decoration-color: #008080; font-weight: bold\">10</span>-<span style=\"color: #008080; text-decoration-color: #008080; font-weight: bold\">11</span>: <span style=\"color: #800000; text-decoration-color: #800000; font-weight: bold\">sell</span>, <span style=\"color: #008080; text-decoration-color: #008080; font-weight: bold\">0.89</span>, $<span style=\"color: #008080; text-decoration-color: #008080; font-weight: bold\">284.72</span>\n",
              "</pre>\n"
            ]
          },
          "metadata": {}
        },
        {
          "output_type": "display_data",
          "data": {
            "text/plain": [
              "\u001b[1;36m2019\u001b[0m-\u001b[1;36m11\u001b[0m-\u001b[1;36m25\u001b[0m: \u001b[1;32mbuy\u001b[0m, \u001b[1;36m0.18\u001b[0m, $\u001b[1;36m299.82\u001b[0m\n"
            ],
            "text/html": [
              "<pre style=\"white-space:pre;overflow-x:auto;line-height:normal;font-family:Menlo,'DejaVu Sans Mono',consolas,'Courier New',monospace\"><span style=\"color: #008080; text-decoration-color: #008080; font-weight: bold\">2019</span>-<span style=\"color: #008080; text-decoration-color: #008080; font-weight: bold\">11</span>-<span style=\"color: #008080; text-decoration-color: #008080; font-weight: bold\">25</span>: <span style=\"color: #008000; text-decoration-color: #008000; font-weight: bold\">buy</span>, <span style=\"color: #008080; text-decoration-color: #008080; font-weight: bold\">0.18</span>, $<span style=\"color: #008080; text-decoration-color: #008080; font-weight: bold\">299.82</span>\n",
              "</pre>\n"
            ]
          },
          "metadata": {}
        },
        {
          "output_type": "display_data",
          "data": {
            "text/plain": [
              "\u001b[1;36m2019\u001b[0m-\u001b[1;36m11\u001b[0m-\u001b[1;36m29\u001b[0m: \u001b[1;31msell\u001b[0m, \u001b[1;36m0.97\u001b[0m, $\u001b[1;36m302.59\u001b[0m\n"
            ],
            "text/html": [
              "<pre style=\"white-space:pre;overflow-x:auto;line-height:normal;font-family:Menlo,'DejaVu Sans Mono',consolas,'Courier New',monospace\"><span style=\"color: #008080; text-decoration-color: #008080; font-weight: bold\">2019</span>-<span style=\"color: #008080; text-decoration-color: #008080; font-weight: bold\">11</span>-<span style=\"color: #008080; text-decoration-color: #008080; font-weight: bold\">29</span>: <span style=\"color: #800000; text-decoration-color: #800000; font-weight: bold\">sell</span>, <span style=\"color: #008080; text-decoration-color: #008080; font-weight: bold\">0.97</span>, $<span style=\"color: #008080; text-decoration-color: #008080; font-weight: bold\">302.59</span>\n",
              "</pre>\n"
            ]
          },
          "metadata": {}
        },
        {
          "output_type": "display_data",
          "data": {
            "text/plain": [
              "\u001b[1;36m2019\u001b[0m-\u001b[1;36m12\u001b[0m-\u001b[1;36m05\u001b[0m: \u001b[1;32mbuy\u001b[0m, \u001b[1;36m0.22\u001b[0m, $\u001b[1;36m300.06\u001b[0m\n"
            ],
            "text/html": [
              "<pre style=\"white-space:pre;overflow-x:auto;line-height:normal;font-family:Menlo,'DejaVu Sans Mono',consolas,'Courier New',monospace\"><span style=\"color: #008080; text-decoration-color: #008080; font-weight: bold\">2019</span>-<span style=\"color: #008080; text-decoration-color: #008080; font-weight: bold\">12</span>-<span style=\"color: #008080; text-decoration-color: #008080; font-weight: bold\">05</span>: <span style=\"color: #008000; text-decoration-color: #008000; font-weight: bold\">buy</span>, <span style=\"color: #008080; text-decoration-color: #008080; font-weight: bold\">0.22</span>, $<span style=\"color: #008080; text-decoration-color: #008080; font-weight: bold\">300.06</span>\n",
              "</pre>\n"
            ]
          },
          "metadata": {}
        },
        {
          "output_type": "display_data",
          "data": {
            "text/plain": [
              "\u001b[1;36m2019\u001b[0m-\u001b[1;36m12\u001b[0m-\u001b[1;36m13\u001b[0m: \u001b[1;31msell\u001b[0m, \u001b[1;36m0.89\u001b[0m, $\u001b[1;36m304.52\u001b[0m\n"
            ],
            "text/html": [
              "<pre style=\"white-space:pre;overflow-x:auto;line-height:normal;font-family:Menlo,'DejaVu Sans Mono',consolas,'Courier New',monospace\"><span style=\"color: #008080; text-decoration-color: #008080; font-weight: bold\">2019</span>-<span style=\"color: #008080; text-decoration-color: #008080; font-weight: bold\">12</span>-<span style=\"color: #008080; text-decoration-color: #008080; font-weight: bold\">13</span>: <span style=\"color: #800000; text-decoration-color: #800000; font-weight: bold\">sell</span>, <span style=\"color: #008080; text-decoration-color: #008080; font-weight: bold\">0.89</span>, $<span style=\"color: #008080; text-decoration-color: #008080; font-weight: bold\">304.52</span>\n",
              "</pre>\n"
            ]
          },
          "metadata": {}
        }
      ]
    },
    {
      "cell_type": "code",
      "source": [
        "for result in results:\n",
        "    print(\"Returns:\")\n",
        "    for k, v in result.analyzers.returns.get_analysis().items():\n",
        "        print(f\"{k}:\", f\"{v * 100:.2f}%\")\n",
        "\n",
        "    print(\"-\" * 32)\n",
        "    print(\"Annual Return:\")\n",
        "    for k, v in result.analyzers.annual_return.get_analysis().items():\n",
        "        print(f\"{k}:\", f\"{v * 100:.2f}%\")\n",
        "\n",
        "    print(\"=\" * 32)"
      ],
      "metadata": {
        "id": "pcfXQOosFYgv",
        "colab": {
          "base_uri": "https://localhost:8080/",
          "height": 166
        },
        "outputId": "02d60e24-9791-4e82-a6ff-5b43a83768c3"
      },
      "execution_count": 89,
      "outputs": [
        {
          "output_type": "display_data",
          "data": {
            "text/plain": [
              "Returns:\n"
            ],
            "text/html": [
              "<pre style=\"white-space:pre;overflow-x:auto;line-height:normal;font-family:Menlo,'DejaVu Sans Mono',consolas,'Courier New',monospace\">Returns:\n",
              "</pre>\n"
            ]
          },
          "metadata": {}
        },
        {
          "output_type": "display_data",
          "data": {
            "text/plain": [
              "rtot: \u001b[1;36m8.56\u001b[0m%\n"
            ],
            "text/html": [
              "<pre style=\"white-space:pre;overflow-x:auto;line-height:normal;font-family:Menlo,'DejaVu Sans Mono',consolas,'Courier New',monospace\">rtot: <span style=\"color: #008080; text-decoration-color: #008080; font-weight: bold\">8.56</span>%\n",
              "</pre>\n"
            ]
          },
          "metadata": {}
        },
        {
          "output_type": "display_data",
          "data": {
            "text/plain": [
              "ravg: \u001b[1;36m0.03\u001b[0m%\n"
            ],
            "text/html": [
              "<pre style=\"white-space:pre;overflow-x:auto;line-height:normal;font-family:Menlo,'DejaVu Sans Mono',consolas,'Courier New',monospace\">ravg: <span style=\"color: #008080; text-decoration-color: #008080; font-weight: bold\">0.03</span>%\n",
              "</pre>\n"
            ]
          },
          "metadata": {}
        },
        {
          "output_type": "display_data",
          "data": {
            "text/plain": [
              "rnorm: \u001b[1;36m8.94\u001b[0m%\n"
            ],
            "text/html": [
              "<pre style=\"white-space:pre;overflow-x:auto;line-height:normal;font-family:Menlo,'DejaVu Sans Mono',consolas,'Courier New',monospace\">rnorm: <span style=\"color: #008080; text-decoration-color: #008080; font-weight: bold\">8.94</span>%\n",
              "</pre>\n"
            ]
          },
          "metadata": {}
        },
        {
          "output_type": "display_data",
          "data": {
            "text/plain": [
              "rnorm100: \u001b[1;36m893.62\u001b[0m%\n"
            ],
            "text/html": [
              "<pre style=\"white-space:pre;overflow-x:auto;line-height:normal;font-family:Menlo,'DejaVu Sans Mono',consolas,'Courier New',monospace\">rnorm100: <span style=\"color: #008080; text-decoration-color: #008080; font-weight: bold\">893.62</span>%\n",
              "</pre>\n"
            ]
          },
          "metadata": {}
        },
        {
          "output_type": "display_data",
          "data": {
            "text/plain": [
              "--------------------------------\n"
            ],
            "text/html": [
              "<pre style=\"white-space:pre;overflow-x:auto;line-height:normal;font-family:Menlo,'DejaVu Sans Mono',consolas,'Courier New',monospace\">--------------------------------\n",
              "</pre>\n"
            ]
          },
          "metadata": {}
        },
        {
          "output_type": "display_data",
          "data": {
            "text/plain": [
              "Annual Return:\n"
            ],
            "text/html": [
              "<pre style=\"white-space:pre;overflow-x:auto;line-height:normal;font-family:Menlo,'DejaVu Sans Mono',consolas,'Courier New',monospace\">Annual Return:\n",
              "</pre>\n"
            ]
          },
          "metadata": {}
        },
        {
          "output_type": "display_data",
          "data": {
            "text/plain": [
              "\u001b[1;36m2019\u001b[0m: \u001b[1;36m8.94\u001b[0m%\n"
            ],
            "text/html": [
              "<pre style=\"white-space:pre;overflow-x:auto;line-height:normal;font-family:Menlo,'DejaVu Sans Mono',consolas,'Courier New',monospace\"><span style=\"color: #008080; text-decoration-color: #008080; font-weight: bold\">2019</span>: <span style=\"color: #008080; text-decoration-color: #008080; font-weight: bold\">8.94</span>%\n",
              "</pre>\n"
            ]
          },
          "metadata": {}
        },
        {
          "output_type": "display_data",
          "data": {
            "text/plain": [
              "================================\n"
            ],
            "text/html": [
              "<pre style=\"white-space:pre;overflow-x:auto;line-height:normal;font-family:Menlo,'DejaVu Sans Mono',consolas,'Courier New',monospace\">================================\n",
              "</pre>\n"
            ]
          },
          "metadata": {}
        }
      ]
    },
    {
      "cell_type": "code",
      "source": [
        "cerebro.plot(iplot=False)"
      ],
      "metadata": {
        "id": "RF2X4v8afVYT",
        "colab": {
          "base_uri": "https://localhost:8080/",
          "height": 324
        },
        "outputId": "9b044aa4-4541-4e1d-95d2-d8f0181bdc4d"
      },
      "execution_count": 90,
      "outputs": [
        {
          "output_type": "display_data",
          "data": {
            "text/plain": [
              "<Figure size 432x288 with 5 Axes>"
            ],
            "image/png": "[encoded data removed]"
          },
          "metadata": {
            "needs_background": "light"
          }
        },
        {
          "output_type": "execute_result",
          "data": {
            "text/plain": [
              "[[<Figure size 432x288 with 5 Axes>]]"
            ]
          },
          "metadata": {},
          "execution_count": 90
        }
      ]
    }
  ]
}